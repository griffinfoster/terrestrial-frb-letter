{
 "cells": [
  {
   "cell_type": "markdown",
   "metadata": {
    "deletable": true,
    "editable": true
   },
   "source": [
    "## LOFAR-UK RADAR\n",
    "\n",
    "FRB verification criteria.\n",
    "\n",
    "Criteria results:\n",
    "\n",
    "* POSTIVE: good evidence for astrophysical origin\n",
    "* NEUTRAL: neutral evidence\n",
    "* UNKNOWN: unknown from reported data\n",
    "* NEGATIVE: evidence for terrestrial origin (non-critical)\n",
    "* CRITICAL: good evidence for terrestiral origin (critical)\n",
    "* NOTVALID: not valid criterion for observation"
   ]
  },
  {
   "cell_type": "code",
   "execution_count": 1,
   "metadata": {
    "collapsed": true,
    "deletable": true,
    "editable": true
   },
   "outputs": [],
   "source": [
    "import cPickle as pkl"
   ]
  },
  {
   "cell_type": "code",
   "execution_count": 2,
   "metadata": {
    "collapsed": true,
    "deletable": true,
    "editable": true
   },
   "outputs": [],
   "source": [
    "criteria = {} # criteria status dictionary"
   ]
  },
  {
   "cell_type": "markdown",
   "metadata": {
    "deletable": true,
    "editable": true
   },
   "source": [
    "### Parameters"
   ]
  },
  {
   "cell_type": "markdown",
   "metadata": {
    "deletable": true,
    "editable": true
   },
   "source": [
    "TODO: what is the galactic DM allong the line of sight? first i need to know the RA,Dec at the time of the obs"
   ]
  },
  {
   "cell_type": "code",
   "execution_count": 3,
   "metadata": {
    "collapsed": true,
    "deletable": true,
    "editable": true
   },
   "outputs": [],
   "source": [
    "frbStr = 'LOFARRADAR'"
   ]
  },
  {
   "cell_type": "code",
   "execution_count": 4,
   "metadata": {
    "collapsed": true,
    "deletable": true,
    "editable": true
   },
   "outputs": [],
   "source": [
    "criteria['DMexcess'] = 'NEUTRAL' # low DM, but out of the galactic plane"
   ]
  },
  {
   "cell_type": "code",
   "execution_count": 5,
   "metadata": {
    "collapsed": true,
    "deletable": true,
    "editable": true
   },
   "outputs": [],
   "source": [
    "criteria['SNR'] = 'POSITIVE' # high SNR\n",
    "criteria['flux'] = 'POSITIVE' # reasonable flux\n",
    "criteria['pulsewidth'] = 'POSITIVE' # reasonable pulse width\n",
    "criteria['multicomp'] = 'NEUTRAL' # potentially a second component\n",
    "criteria['polarization'] = 'NOTVALID' # Stoke I data only\n",
    "criteria['broadband'] = 'NEGATIVE' # Appears band limited\n",
    "criteria['spectralIndex'] = 'NEGATIVE' # flat spectral index, but appears band limited\n",
    "criteria['highResStruct'] = 'CRITICAL' # high-res time structure -> RADAR\n",
    "criteria['scattering'] = 'POSITIVE' # no apparent scattering\n",
    "criteria['scintillation'] = 'POSITIVE' # no apparent scintillation\n",
    "criteria['dmSpace'] = 'POSITIVE' # clean DM-space within window\n",
    "criteria['dispersionRelation'] = 'NEUTRAL' # fractional band too small to measure\n",
    "criteria['bandpass'] = 'POSITIVE' # band pass did not deviate from expected response\n",
    "criteria['lowAltitude'] = 'POSITIVE' # by design the beams point at high altitudes\n",
    "#criteria['sysNoise'] = 'POSITIVE' # system noise nominal\n",
    "#criteria['correctFeed'] = 'NOTVALID' # only one feed\n",
    "#criteria['obsLog'] = 'POSITIVE' # standard observation mode during time of detection\n",
    "#criteria['electronics'] = 'POSITIVE' # standard observation mode during time of detection\n",
    "criteria['telState'] = 'POSITIVE'\n",
    "criteria['repeats'] = 'POSITIVE' # only seen once\n",
    "criteria['rfi'] = 'POSITIVE' # standard RFI environment\n",
    "criteria['gain'] = 'POSITIVE' # gain did not deviate from expected variation\n",
    "criteria['lowSNRsearch'] = 'POSITIVE' # no further pulse found at low S/N threshold\n",
    "criteria['multiBeam'] = 'NOTVALID'\n",
    "criteria['TAB'] = 'POSITIVE' # only seen in one of the 8 beams\n",
    "criteria['interferometric'] = 'NOTVALID'\n",
    "criteria['multiSite'] = 'NOTVALID'"
   ]
  },
  {
   "cell_type": "markdown",
   "metadata": {
    "deletable": true,
    "editable": true
   },
   "source": [
    "### Available Data"
   ]
  },
  {
   "cell_type": "code",
   "execution_count": 6,
   "metadata": {
    "collapsed": true,
    "deletable": true,
    "editable": true
   },
   "outputs": [],
   "source": [
    "criteria['dataSingleBeam'] = 'NOTVALID'\n",
    "criteria['dataMultiBeam'] = 'NOTVALID'\n",
    "criteria['dataTAB'] = 'NEUTRAL' # some of the TABs recorded data, data was normalized\n",
    "criteria['dataInterferometric'] = 'NOTVALID'\n",
    "criteria['dataMultiSite'] = 'NOTVALID'\n",
    "criteria['dataVoltages'] = 'NOTVALID'"
   ]
  },
  {
   "cell_type": "code",
   "execution_count": 7,
   "metadata": {
    "collapsed": false,
    "deletable": true,
    "editable": true
   },
   "outputs": [
    {
     "name": "stdout",
     "output_type": "stream",
     "text": [
      "dataInterferometric: NOTVALID\n",
      "multiSite: NOTVALID\n",
      "multicomp: NEUTRAL\n",
      "lowAltitude: POSITIVE\n",
      "scattering: POSITIVE\n",
      "spectralIndex: NEGATIVE\n",
      "flux: POSITIVE\n",
      "broadband: NEGATIVE\n",
      "multiBeam: NOTVALID\n",
      "polarization: NOTVALID\n",
      "pulsewidth: POSITIVE\n",
      "DMexcess: NEUTRAL\n",
      "TAB: POSITIVE\n",
      "dispersionRelation: NEUTRAL\n",
      "telState: POSITIVE\n",
      "interferometric: NOTVALID\n",
      "gain: POSITIVE\n",
      "dataVoltages: NOTVALID\n",
      "dataMultiBeam: NOTVALID\n",
      "dataTAB: NEUTRAL\n",
      "dmSpace: POSITIVE\n",
      "lowSNRsearch: POSITIVE\n",
      "dataMultiSite: NOTVALID\n",
      "highResStruct: CRITICAL\n",
      "SNR: POSITIVE\n",
      "rfi: POSITIVE\n",
      "repeats: POSITIVE\n",
      "scintillation: POSITIVE\n",
      "bandpass: POSITIVE\n",
      "dataSingleBeam: NOTVALID\n"
     ]
    }
   ],
   "source": [
    "for key in criteria.iterkeys():\n",
    "    print '%s: %s'%(key, criteria[key])\n",
    "\n",
    "outFn = 'criteria.%s.pkl'%frbStr\n",
    "ofh = open(outFn, 'wb')\n",
    "pkl.dump(criteria, ofh)\n",
    "ofh.close()"
   ]
  }
 ],
 "metadata": {
  "kernelspec": {
   "display_name": "Python 2",
   "language": "python",
   "name": "python2"
  },
  "language_info": {
   "codemirror_mode": {
    "name": "ipython",
    "version": 2
   },
   "file_extension": ".py",
   "mimetype": "text/x-python",
   "name": "python",
   "nbconvert_exporter": "python",
   "pygments_lexer": "ipython2",
   "version": "2.7.12"
  }
 },
 "nbformat": 4,
 "nbformat_minor": 2
}
