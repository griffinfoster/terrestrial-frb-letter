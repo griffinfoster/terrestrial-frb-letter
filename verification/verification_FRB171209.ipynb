{
 "cells": [
  {
   "cell_type": "markdown",
   "metadata": {
    "deletable": true,
    "editable": true
   },
   "source": [
    "## FRB171209\n",
    "\n",
    "FRB verification criteria.\n",
    "\n",
    "Criteria results:\n",
    "\n",
    "* POSTIVE: good evidence for astrophysical origin\n",
    "* NEUTRAL: neutral evidence\n",
    "* UNKNOWN: unknown from reported data\n",
    "* NEGATIVE: evidence for terrestrial origin (non-critical)\n",
    "* CRITICAL: good evidence for terrestiral origin (critical)\n",
    "* NOTVALID: not valid criterion for observation"
   ]
  },
  {
   "cell_type": "code",
   "execution_count": 1,
   "metadata": {
    "collapsed": true,
    "deletable": true,
    "editable": true
   },
   "outputs": [],
   "source": [
    "import cPickle as pkl\n",
    "\n",
    "import astropy.time\n",
    "import astropy.coordinates\n",
    "import astropy.units"
   ]
  },
  {
   "cell_type": "code",
   "execution_count": 2,
   "metadata": {
    "collapsed": true,
    "deletable": true,
    "editable": true
   },
   "outputs": [],
   "source": [
    "criteria = {} # criteria status dictionary"
   ]
  },
  {
   "cell_type": "markdown",
   "metadata": {
    "deletable": true,
    "editable": true
   },
   "source": [
    "### Parameters"
   ]
  },
  {
   "cell_type": "markdown",
   "metadata": {
    "deletable": true,
    "editable": true
   },
   "source": [
    "[Atel 11046](http://www.astronomerstelegram.org/?read=11046)"
   ]
  },
  {
   "cell_type": "code",
   "execution_count": 3,
   "metadata": {
    "collapsed": true,
    "deletable": true,
    "editable": true
   },
   "outputs": [],
   "source": [
    "frbStr = 'FRB171209'"
   ]
  },
  {
   "cell_type": "markdown",
   "metadata": {
    "deletable": true,
    "editable": true
   },
   "source": [
    "#### DM Excess\n",
    "\n",
    "Using https://www.nrl.navy.mil/rsd/RORF/ne2001/\n",
    "\n",
    "(RA, Dec) = (15:50:25, -46:10:20)\n",
    "Galactic pointing: (l, b) = (332.2, 6.24)"
   ]
  },
  {
   "cell_type": "code",
   "execution_count": 4,
   "metadata": {
    "collapsed": false,
    "deletable": true,
    "editable": true
   },
   "outputs": [
    {
     "name": "stdout",
     "output_type": "stream",
     "text": [
      "DM Excess fraction: 4.23738665427\n"
     ]
    }
   ],
   "source": [
    "dm = 1458\n",
    "DM_galaxy = 344.08\n",
    "DM_excess = dm / DM_galaxy\n",
    "print 'DM Excess fraction:', DM_excess"
   ]
  },
  {
   "cell_type": "code",
   "execution_count": 5,
   "metadata": {
    "collapsed": false
   },
   "outputs": [],
   "source": [
    "criteria['DMexcess'] = 'POSITIVE'"
   ]
  },
  {
   "cell_type": "code",
   "execution_count": 6,
   "metadata": {
    "collapsed": false,
    "deletable": true,
    "editable": true
   },
   "outputs": [],
   "source": [
    "criteria['SNR'] = 'POSITIVE' # high SNR\n",
    "criteria['flux'] = 'POSITIVE' # reasonable flux\n",
    "criteria['pulsewidth'] = 'POSITIVE' # reasonable pulse width\n",
    "criteria['multicomp'] = 'UNKNOWN' # not reported\n",
    "criteria['polarization'] = 'UNKNOWN' # not reported\n",
    "criteria['broadband'] = 'UNKNOWN' # not reported\n",
    "criteria['spectralIndex'] = 'UNKNOWN' # not reported\n",
    "criteria['highResStruct'] = 'UNKNOWN' # not reported\n",
    "criteria['scattering'] = 'UNKNOWN' # not reported\n",
    "criteria['scintillation'] = 'UNKNOWN' # not reported\n",
    "criteria['dmSpace'] = 'UNKNOWN' # not reported\n",
    "criteria['dispersionRelation'] = 'UNKNOWN' # not reported\n",
    "criteria['bandpass'] = 'UNKNOWN' # not reported\n",
    "criteria['telState'] = 'UNKNOWN' # not reported\n",
    "criteria['rfi'] = 'UNKNOWN' # not reported\n",
    "criteria['repeats'] = 'UNKNOWN' # not reported\n",
    "criteria['gain'] = 'UNKNOWN' # not reported\n",
    "criteria['lowSNRsearch'] = 'UNKNOWN' # not reported\n",
    "criteria['multiBeam'] = 'UNKNOWN' # not reported\n",
    "criteria['TAB'] = 'NOTVALID'\n",
    "criteria['interferometric'] = 'NOTVALID'\n",
    "criteria['multiSite'] = 'NOTVALID'"
   ]
  },
  {
   "cell_type": "code",
   "execution_count": 7,
   "metadata": {
    "collapsed": false
   },
   "outputs": [
    {
     "name": "stdout",
     "output_type": "stream",
     "text": [
      "2017-12-09 20:34:23.500\n",
      "<SkyCoord (Galactic): (l, b) in deg\n",
      "    ( 332.2,  6.24)>\n",
      "(-4554234.701509818, 2816825.9185967753, -3453978.054094455) m\n",
      "<SkyCoord (AltAz: obstime=2017-12-09 20:34:23.500, location=(-4554234.701509818, 2816825.9185967753, -3453978.054094455) m, pressure=0.0 hPa, temperature=0.0 deg_C, relative_humidity=0, obswl=1.0 micron): (az, alt) in deg\n",
      "    ( 125.16340758,  41.62039383)>\n",
      "<SkyCoord (ICRS): (ra, dec) in deg\n",
      "    ( 237.49906917, -46.23737973)>\n"
     ]
    }
   ],
   "source": [
    "# Telescope pointing\n",
    "\n",
    "eventUTCStr = '2017-12-09 20:34:23.5'\n",
    "eventUTC = astropy.time.Time(eventUTCStr)\n",
    "print eventUTC\n",
    "\n",
    "eventGall = 332.2\n",
    "eventGalb = 6.24\n",
    "\n",
    "galCoords = astropy.coordinates.SkyCoord(eventGall, eventGalb, frame=astropy.coordinates.Galactic,\\\n",
    "                                         unit='deg', equinox='J2000')\n",
    "print galCoords\n",
    "\n",
    "# Parkes location\n",
    "# https://www.parkes.atnf.csiro.au/observing/documentation/user_guide/pks_ug_2.html\n",
    "siteLat = -32.99778\n",
    "siteLong = 148.26292\n",
    "siteLoc = astropy.coordinates.EarthLocation(lat=siteLat * astropy.units.deg, lon=siteLong * astropy.units.deg,\\\n",
    "                                  height=414.80 * astropy.units.m)\n",
    "print siteLoc\n",
    "\n",
    "print galCoords.transform_to(astropy.coordinates.AltAz(obstime=eventUTC, location=siteLoc))\n",
    "\n",
    "print galCoords.transform_to('icrs')"
   ]
  },
  {
   "cell_type": "code",
   "execution_count": 8,
   "metadata": {
    "collapsed": true
   },
   "outputs": [],
   "source": [
    "criteria['lowAltitude'] = 'NEUTRAL' # alt: 41.6 deg"
   ]
  },
  {
   "cell_type": "markdown",
   "metadata": {
    "deletable": true,
    "editable": true
   },
   "source": [
    "### Available Data"
   ]
  },
  {
   "cell_type": "code",
   "execution_count": 9,
   "metadata": {
    "collapsed": true,
    "deletable": true,
    "editable": true
   },
   "outputs": [],
   "source": [
    "criteria['dataSingleBeam'] = 'NOTVALID'\n",
    "criteria['dataMultiBeam'] = 'CRITICAL' # no data released\n",
    "criteria['dataTAB'] = 'NOTVALID'\n",
    "criteria['dataInterferometric'] = 'NOTVALID'\n",
    "criteria['dataMultiSite'] = 'NOTVALID'\n",
    "criteria['dataVoltages'] = 'NOTVALID' # not available for Parkes multi-beam (I think)"
   ]
  },
  {
   "cell_type": "code",
   "execution_count": 10,
   "metadata": {
    "collapsed": false,
    "deletable": true,
    "editable": true
   },
   "outputs": [
    {
     "name": "stdout",
     "output_type": "stream",
     "text": [
      "dataInterferometric: NOTVALID\n",
      "multiSite: NOTVALID\n",
      "multicomp: UNKNOWN\n",
      "lowAltitude: NEUTRAL\n",
      "scattering: UNKNOWN\n",
      "spectralIndex: UNKNOWN\n",
      "flux: POSITIVE\n",
      "broadband: UNKNOWN\n",
      "multiBeam: UNKNOWN\n",
      "polarization: UNKNOWN\n",
      "pulsewidth: POSITIVE\n",
      "DMexcess: POSITIVE\n",
      "TAB: NOTVALID\n",
      "dispersionRelation: UNKNOWN\n",
      "telState: UNKNOWN\n",
      "interferometric: NOTVALID\n",
      "gain: UNKNOWN\n",
      "dataVoltages: NOTVALID\n",
      "dataMultiBeam: CRITICAL\n",
      "dataTAB: NOTVALID\n",
      "dmSpace: UNKNOWN\n",
      "lowSNRsearch: UNKNOWN\n",
      "dataMultiSite: NOTVALID\n",
      "highResStruct: UNKNOWN\n",
      "SNR: POSITIVE\n",
      "rfi: UNKNOWN\n",
      "repeats: UNKNOWN\n",
      "scintillation: UNKNOWN\n",
      "bandpass: UNKNOWN\n",
      "dataSingleBeam: NOTVALID\n"
     ]
    }
   ],
   "source": [
    "for key in criteria.iterkeys():\n",
    "    print '%s: %s'%(key, criteria[key])\n",
    "\n",
    "outFn = 'criteria.%s.pkl'%frbStr\n",
    "ofh = open(outFn, 'wb')\n",
    "pkl.dump(criteria, ofh)\n",
    "ofh.close()"
   ]
  }
 ],
 "metadata": {
  "kernelspec": {
   "display_name": "Python 2",
   "language": "python",
   "name": "python2"
  },
  "language_info": {
   "codemirror_mode": {
    "name": "ipython",
    "version": 2
   },
   "file_extension": ".py",
   "mimetype": "text/x-python",
   "name": "python",
   "nbconvert_exporter": "python",
   "pygments_lexer": "ipython2",
   "version": "2.7.12"
  }
 },
 "nbformat": 4,
 "nbformat_minor": 2
}
