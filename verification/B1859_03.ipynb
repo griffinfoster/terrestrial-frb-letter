{
 "cells": [
  {
   "cell_type": "markdown",
   "metadata": {
    "deletable": true,
    "editable": true
   },
   "source": [
    "## B1859+03\n",
    "\n",
    "FRB verification criteria.\n",
    "\n",
    "Criteria results:\n",
    "\n",
    "* POSTIVE: good evidence for astrophysical origin\n",
    "* NEUTRAL: neutral evidence\n",
    "* UNKNOWN: unknown from reported data\n",
    "* NEGATIVE: evidence for terrestrial origin (non-critical)\n",
    "* CRITICAL: good evidence for terrestiral origin (critical)\n",
    "* NOTVALID: not valid criterion for observation"
   ]
  },
  {
   "cell_type": "code",
   "execution_count": 1,
   "metadata": {
    "collapsed": true,
    "deletable": true,
    "editable": true
   },
   "outputs": [],
   "source": [
    "import cPickle as pkl"
   ]
  },
  {
   "cell_type": "code",
   "execution_count": 2,
   "metadata": {
    "collapsed": true,
    "deletable": true,
    "editable": true
   },
   "outputs": [],
   "source": [
    "criteria = {} # criteria status dictionary"
   ]
  },
  {
   "cell_type": "markdown",
   "metadata": {
    "deletable": true,
    "editable": true
   },
   "source": [
    "### Parameters"
   ]
  },
  {
   "cell_type": "code",
   "execution_count": 3,
   "metadata": {
    "collapsed": true,
    "deletable": true,
    "editable": true
   },
   "outputs": [],
   "source": [
    "frbStr = 'B1859_03'"
   ]
  },
  {
   "cell_type": "markdown",
   "metadata": {
    "deletable": true,
    "editable": true
   },
   "source": [
    "#### DM Excess\n",
    "\n",
    "Using https://www.nrl.navy.mil/rsd/RORF/ne2001/\n",
    "\n",
    "(RA, Dec) = (19:01:31.781, +03:31:05.97)\n",
    "Galactic pointing: (l, b) = (37.21, -0.64)"
   ]
  },
  {
   "cell_type": "code",
   "execution_count": 4,
   "metadata": {
    "collapsed": false,
    "deletable": true,
    "editable": true
   },
   "outputs": [
    {
     "name": "stdout",
     "output_type": "stream",
     "text": [
      "DM Excess fraction: 1.0\n"
     ]
    }
   ],
   "source": [
    "dm = 402.\n",
    "DM_galaxy = 402.\n",
    "DM_excess = dm / DM_galaxy\n",
    "print 'DM Excess fraction:', DM_excess"
   ]
  },
  {
   "cell_type": "code",
   "execution_count": 5,
   "metadata": {
    "collapsed": true
   },
   "outputs": [],
   "source": [
    "criteria['DMexcess'] = 'CRITICAL' # known pulsar in the galactic plane"
   ]
  },
  {
   "cell_type": "code",
   "execution_count": 6,
   "metadata": {
    "collapsed": false,
    "deletable": true,
    "editable": true
   },
   "outputs": [],
   "source": [
    "criteria['SNR'] = 'POSITIVE' # high SNR\n",
    "criteria['flux'] = 'POSITIVE' # reasonable flux\n",
    "criteria['pulsewidth'] = 'POSITIVE' # reasonable pulse width\n",
    "criteria['multicomp'] = 'POSITIVE' # single component\n",
    "criteria['polarization'] = 'POSITIVE' # linearly polarized with RM -> astrophysical\n",
    "criteria['broadband'] = 'POSITIVE' # covers the observing band\n",
    "criteria['spectralIndex'] = 'POSITIVE' # smooth spectral index\n",
    "criteria['highResStruct'] = 'POSITIVE' # no apparent high-resolution time or frequency structure\n",
    "criteria['scattering'] = 'POSITIVE' # scattering well modelled\n",
    "criteria['scintillation'] = 'POSITIVE' # scintillation well modelled\n",
    "criteria['dmSpace'] = 'POSITIVE' # clean DM-space within window\n",
    "criteria['dispersionRelation'] = 'POSITIVE' # fits n^-2 relation\n",
    "criteria['bandpass'] = 'POSITIVE' # observed with multiple telescopes and bands\n",
    "criteria['lowAltitude'] = 'POSITIVE' # observed with multiple telescopes and bands\n",
    "#criteria['sysNoise'] = 'POSITIVE' # observed with multiple telescopes and bands\n",
    "#criteria['correctFeed'] = 'POSITIVE' # observed with multiple telescopes and bands\n",
    "#criteria['obsLog'] = 'POSITIVE' # observed with multiple telescopes and bands\n",
    "#criteria['electronics'] = 'POSITIVE' # observed with multiple telescopes and bands\n",
    "criteria['telState'] = 'POSITIVE' # observed with multiple telescopes and bands\n",
    "criteria['repeats'] = 'POSITIVE' # seen to repeat at a fixed (RA, Dec)\n",
    "criteria['rfi'] = 'POSITIVE' # observed with multiple telescopes and bands\n",
    "criteria['gain'] = 'POSITIVE' # observed with multiple telescopes and bands\n",
    "criteria['lowSNRsearch'] = 'POSITIVE' # multiple low S/N pulse found\n",
    "criteria['multiBeam'] = 'POSITIVE' # observed with multiple telescopes and bands\n",
    "criteria['TAB'] = 'NOTVALID' # unknwon\n",
    "criteria['interferometric'] = 'NOTVALID' # unknown\n",
    "criteria['multiSite'] = 'POSITIVE' # observed with multiple telescopes and bands"
   ]
  },
  {
   "cell_type": "markdown",
   "metadata": {
    "deletable": true,
    "editable": true
   },
   "source": [
    "### Available Data"
   ]
  },
  {
   "cell_type": "code",
   "execution_count": 7,
   "metadata": {
    "collapsed": true,
    "deletable": true,
    "editable": true
   },
   "outputs": [],
   "source": [
    "#criteria['dataSingleBeam'] = 'POSITIVE' # observed with multiple telescopes and bands\n",
    "#criteria['dataMultiBeam'] = 'POSITIVE' # observed with multiple telescopes and bands\n",
    "#criteria['dataTAB'] = 'UNKNOWN' # observed with multiple telescopes and bands\n",
    "#criteria['dataInterferometric'] = 'UNKNOWN' # observed with multiple telescopes and bands\n",
    "#criteria['dataMultiSite'] = 'POSITIVE' # observed with multiple telescopes and bands\n",
    "#criteria['dataVoltages'] = 'UNKNOWN' # observed with multiple telescopes and bands\n",
    "\n",
    "criteria['dataSingleBeam'] = 'NOTVALID'\n",
    "criteria['dataMultiBeam'] = 'NEUTRAL' # ALFABURST data is normalized\n",
    "criteria['dataTAB'] = 'NOTVALID'\n",
    "criteria['dataInterferometric'] = 'NOTVALID'\n",
    "criteria['dataMultiSite'] = 'NOTVALID'\n",
    "criteria['dataVoltages'] = 'NOTVALID'"
   ]
  },
  {
   "cell_type": "code",
   "execution_count": 8,
   "metadata": {
    "collapsed": false,
    "deletable": true,
    "editable": true
   },
   "outputs": [
    {
     "name": "stdout",
     "output_type": "stream",
     "text": [
      "dataInterferometric: NOTVALID\n",
      "multiSite: POSITIVE\n",
      "multicomp: POSITIVE\n",
      "lowAltitude: POSITIVE\n",
      "scattering: POSITIVE\n",
      "spectralIndex: POSITIVE\n",
      "flux: POSITIVE\n",
      "broadband: POSITIVE\n",
      "multiBeam: POSITIVE\n",
      "polarization: POSITIVE\n",
      "pulsewidth: POSITIVE\n",
      "DMexcess: CRITICAL\n",
      "TAB: NOTVALID\n",
      "dispersionRelation: POSITIVE\n",
      "telState: POSITIVE\n",
      "interferometric: NOTVALID\n",
      "gain: POSITIVE\n",
      "dataVoltages: NOTVALID\n",
      "dataMultiBeam: NEUTRAL\n",
      "dataTAB: NOTVALID\n",
      "dmSpace: POSITIVE\n",
      "lowSNRsearch: POSITIVE\n",
      "dataMultiSite: NOTVALID\n",
      "highResStruct: POSITIVE\n",
      "SNR: POSITIVE\n",
      "rfi: POSITIVE\n",
      "repeats: POSITIVE\n",
      "scintillation: POSITIVE\n",
      "bandpass: POSITIVE\n",
      "dataSingleBeam: NOTVALID\n"
     ]
    }
   ],
   "source": [
    "for key in criteria.iterkeys():\n",
    "    print '%s: %s'%(key, criteria[key])\n",
    "\n",
    "outFn = 'criteria.%s.pkl'%frbStr\n",
    "ofh = open(outFn, 'wb')\n",
    "pkl.dump(criteria, ofh)\n",
    "ofh.close()"
   ]
  }
 ],
 "metadata": {
  "kernelspec": {
   "display_name": "Python 2",
   "language": "python",
   "name": "python2"
  },
  "language_info": {
   "codemirror_mode": {
    "name": "ipython",
    "version": 2
   },
   "file_extension": ".py",
   "mimetype": "text/x-python",
   "name": "python",
   "nbconvert_exporter": "python",
   "pygments_lexer": "ipython2",
   "version": "2.7.12"
  }
 },
 "nbformat": 4,
 "nbformat_minor": 2
}
