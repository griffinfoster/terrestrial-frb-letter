{
 "cells": [
  {
   "cell_type": "markdown",
   "metadata": {
    "deletable": true,
    "editable": true
   },
   "source": [
    "## FRB010724\n",
    "\n",
    "FRB verification criteria.\n",
    "\n",
    "Criteria results:\n",
    "\n",
    "* POSTIVE: good evidence for astrophysical origin\n",
    "* NEUTRAL: neutral evidence\n",
    "* UNKNOWN: unknown from reported data\n",
    "* NEGATIVE: evidence for terrestrial origin (non-critical)\n",
    "* CRITICAL: good evidence for terrestiral origin (critical)\n",
    "* NOTVALID: not valid criterion for observation"
   ]
  },
  {
   "cell_type": "code",
   "execution_count": 1,
   "metadata": {
    "collapsed": true,
    "deletable": true,
    "editable": true
   },
   "outputs": [],
   "source": [
    "import cPickle as pkl\n",
    "\n",
    "import astropy.time\n",
    "import astropy.coordinates\n",
    "import astropy.units"
   ]
  },
  {
   "cell_type": "code",
   "execution_count": 2,
   "metadata": {
    "collapsed": true,
    "deletable": true,
    "editable": true
   },
   "outputs": [],
   "source": [
    "criteria = {} # criteria status dictionary"
   ]
  },
  {
   "cell_type": "markdown",
   "metadata": {
    "deletable": true,
    "editable": true
   },
   "source": [
    "### Parameters\n",
    "\n",
    "[A bright millisecond radio burst of extragalactic origin - Lorimer et al. 2007](https://arxiv.org/abs/0709.4301)\n",
    "\n",
    "Data link is broken"
   ]
  },
  {
   "cell_type": "code",
   "execution_count": 3,
   "metadata": {
    "collapsed": true,
    "deletable": true,
    "editable": true
   },
   "outputs": [],
   "source": [
    "frbStr = 'FRB010724'"
   ]
  },
  {
   "cell_type": "markdown",
   "metadata": {
    "deletable": true,
    "editable": true
   },
   "source": [
    "#### DM Excess\n",
    "\n",
    "Using https://www.nrl.navy.mil/rsd/RORF/ne2001/\n",
    "\n",
    "Galactic pointing: (l, b) = (300.653, -41.8051)"
   ]
  },
  {
   "cell_type": "code",
   "execution_count": 4,
   "metadata": {
    "collapsed": false,
    "deletable": true,
    "editable": true
   },
   "outputs": [
    {
     "name": "stdout",
     "output_type": "stream",
     "text": [
      "DM Excess fraction: 8.41184387618\n"
     ]
    }
   ],
   "source": [
    "dm = 375.\n",
    "DM_galaxy = 44.58 \n",
    "DM_excess = dm / DM_galaxy\n",
    "print 'DM Excess fraction:', DM_excess"
   ]
  },
  {
   "cell_type": "code",
   "execution_count": 5,
   "metadata": {
    "collapsed": true,
    "deletable": true,
    "editable": true
   },
   "outputs": [],
   "source": [
    "criteria['DMexcess'] = 'POSITIVE'"
   ]
  },
  {
   "cell_type": "code",
   "execution_count": 6,
   "metadata": {
    "collapsed": false,
    "deletable": true,
    "editable": true
   },
   "outputs": [],
   "source": [
    "criteria['SNR'] = 'POSITIVE' # high SNR\n",
    "criteria['flux'] = 'POSITIVE' # reasonable flux\n",
    "criteria['pulsewidth'] = 'POSITIVE' # reasonable pulse width\n",
    "criteria['multicomp'] = 'POSITIVE' # single component\n",
    "criteria['polarization'] = 'NOTVALID' # Stokes I only\n",
    "criteria['broadband'] = 'POSITIVE' # appears broad band\n",
    "criteria['spectralIndex'] = 'POSITIVE' # v^-4 spectral index response\n",
    "criteria['highResStruct'] = 'POSITIVE' # no apparent high time or frequency structure\n",
    "criteria['scattering'] = 'POSITIVE' # apparent scattering fitting a 4.4 relation\n",
    "criteria['scintillation'] = 'POSITIVE' # no apparent scintillation\n",
    "criteria['dmSpace'] = 'POSITIVE' # clean DM-space within window\n",
    "criteria['dispersionRelation'] = 'POSITIVE' # fits n^-2 relation\n",
    "criteria['bandpass'] = 'UNKNOWN' # data has been bandpass normalized\n",
    "#criteria['sysNoise'] = 'UNKNOWN' # system noise nominal?\n",
    "#criteria['correctFeed'] = 'UNKNOWN' # was the feed in the corrct position?\n",
    "#criteria['obsLog'] = 'UNKNOWN' # was the observation log checked to be nominal?\n",
    "#criteria['electronics'] = 'UNKNOWN' # were the correct electornics on? were other systems off?\n",
    "criteria['telState'] = 'UNKNOWN'\n",
    "criteria['rfi'] = 'UNKNOWN'\n",
    "criteria['repeats'] = 'POSITIVE' # follow up obs performed with a non-detection\n",
    "criteria['gain'] = 'UNKNOWN' # data has been gain normalized\n",
    "criteria['lowSNRsearch'] = 'UNKNOWN'\n",
    "criteria['multiBeam'] = 'POSITIVE' # observed in 3 beams, with a decrease in S/N\n",
    "criteria['TAB'] = 'NOTVALID' # unknown\n",
    "criteria['interferometric'] = 'NOTVALID'\n",
    "criteria['multiSite'] = 'NOTVALID'"
   ]
  },
  {
   "cell_type": "code",
   "execution_count": 7,
   "metadata": {
    "collapsed": false
   },
   "outputs": [
    {
     "name": "stdout",
     "output_type": "stream",
     "text": [
      "2001-07-24 19:50:01.690\n",
      "<SkyCoord (Galactic): (l, b) in deg\n",
      "    ( 300.653, -41.8051)>\n",
      "(-4554234.701509818, 2816825.9185967753, -3453978.054094455) m\n",
      "<SkyCoord (AltAz: obstime=2001-07-24 19:50:01.690, location=(-4554234.701509818, 2816825.9185967753, -3453978.054094455) m, pressure=0.0 hPa, temperature=0.0 deg_C, relative_humidity=0, obswl=1.0 micron): (az, alt) in deg\n",
      "    ( 183.33512093,  47.58853448)>\n",
      "<SkyCoord (ICRS): (ra, dec) in deg\n",
      "    ( 19.5250659, -75.20496347)>\n"
     ]
    },
    {
     "name": "stderr",
     "output_type": "stream",
     "text": [
      "/usr/local/lib/python2.7/dist-packages/astropy/table/column.py:1096: MaskedArrayFutureWarning: setting an item on a masked array which has a shared mask will not copy the mask and also change the original mask array in the future.\n",
      "Check the NumPy 1.11 release notes for more information.\n",
      "  ma.MaskedArray.__setitem__(self, index, value)\n"
     ]
    }
   ],
   "source": [
    "# Telescope pointing\n",
    "\n",
    "eventUTCStr = '2001-07-24 19:50:01.690'\n",
    "eventUTC = astropy.time.Time(eventUTCStr)\n",
    "print eventUTC\n",
    "\n",
    "eventGall = 300.653\n",
    "eventGalb = -41.8051\n",
    "\n",
    "galCoords = astropy.coordinates.SkyCoord(eventGall, eventGalb, frame=astropy.coordinates.Galactic,\\\n",
    "                                         unit='deg', equinox='J2000')\n",
    "print galCoords\n",
    "\n",
    "# Parkes location\n",
    "# https://www.parkes.atnf.csiro.au/observing/documentation/user_guide/pks_ug_2.html\n",
    "siteLat = -32.99778\n",
    "siteLong = 148.26292\n",
    "siteLoc = astropy.coordinates.EarthLocation(lat=siteLat * astropy.units.deg, lon=siteLong * astropy.units.deg,\\\n",
    "                                  height=414.80 * astropy.units.m)\n",
    "print siteLoc\n",
    "\n",
    "print galCoords.transform_to(astropy.coordinates.AltAz(obstime=eventUTC, location=siteLoc))\n",
    "\n",
    "print galCoords.transform_to('icrs')"
   ]
  },
  {
   "cell_type": "code",
   "execution_count": 8,
   "metadata": {
    "collapsed": true
   },
   "outputs": [],
   "source": [
    "criteria['lowAltitude'] = 'NEUTRAL' # alt: 47.58 deg"
   ]
  },
  {
   "cell_type": "markdown",
   "metadata": {
    "deletable": true,
    "editable": true
   },
   "source": [
    "### Available Data"
   ]
  },
  {
   "cell_type": "code",
   "execution_count": 9,
   "metadata": {
    "collapsed": true,
    "deletable": true,
    "editable": true
   },
   "outputs": [],
   "source": [
    "criteria['dataSingleBeam'] = 'NOTVALID'\n",
    "criteria['dataMultiBeam'] = 'NEUTRAL' # filterbanks have been normalized\n",
    "criteria['dataTAB'] = 'NOTVALID'\n",
    "criteria['dataInterferometric'] = 'NOTVALID'\n",
    "criteria['dataMultiSite'] = 'NOTVALID'\n",
    "criteria['dataVoltages'] = 'NOTVALID'"
   ]
  },
  {
   "cell_type": "code",
   "execution_count": 10,
   "metadata": {
    "collapsed": false,
    "deletable": true,
    "editable": true
   },
   "outputs": [
    {
     "name": "stdout",
     "output_type": "stream",
     "text": [
      "dataInterferometric: NOTVALID\n",
      "multiSite: NOTVALID\n",
      "multicomp: POSITIVE\n",
      "lowAltitude: NEUTRAL\n",
      "scattering: POSITIVE\n",
      "spectralIndex: POSITIVE\n",
      "flux: POSITIVE\n",
      "broadband: POSITIVE\n",
      "multiBeam: POSITIVE\n",
      "polarization: NOTVALID\n",
      "pulsewidth: POSITIVE\n",
      "DMexcess: POSITIVE\n",
      "TAB: NOTVALID\n",
      "dispersionRelation: POSITIVE\n",
      "telState: UNKNOWN\n",
      "interferometric: NOTVALID\n",
      "gain: UNKNOWN\n",
      "dataVoltages: NOTVALID\n",
      "dataMultiBeam: NEUTRAL\n",
      "dataTAB: NOTVALID\n",
      "dmSpace: POSITIVE\n",
      "lowSNRsearch: UNKNOWN\n",
      "dataMultiSite: NOTVALID\n",
      "highResStruct: POSITIVE\n",
      "SNR: POSITIVE\n",
      "rfi: UNKNOWN\n",
      "repeats: POSITIVE\n",
      "scintillation: POSITIVE\n",
      "bandpass: UNKNOWN\n",
      "dataSingleBeam: NOTVALID\n"
     ]
    }
   ],
   "source": [
    "for key in criteria.iterkeys():\n",
    "    print '%s: %s'%(key, criteria[key])\n",
    "\n",
    "outFn = 'criteria.%s.pkl'%frbStr\n",
    "ofh = open(outFn, 'wb')\n",
    "pkl.dump(criteria, ofh)\n",
    "ofh.close()"
   ]
  }
 ],
 "metadata": {
  "kernelspec": {
   "display_name": "Python 2",
   "language": "python",
   "name": "python2"
  },
  "language_info": {
   "codemirror_mode": {
    "name": "ipython",
    "version": 2
   },
   "file_extension": ".py",
   "mimetype": "text/x-python",
   "name": "python",
   "nbconvert_exporter": "python",
   "pygments_lexer": "ipython2",
   "version": "2.7.12"
  }
 },
 "nbformat": 4,
 "nbformat_minor": 2
}
