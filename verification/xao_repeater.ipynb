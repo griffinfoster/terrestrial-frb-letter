{
 "cells": [
  {
   "cell_type": "markdown",
   "metadata": {
    "deletable": true,
    "editable": true
   },
   "source": [
    "## XAO Repeater\n",
    "\n",
    "FRB verification criteria.\n",
    "\n",
    "Criteria results:\n",
    "\n",
    "* POSTIVE: good evidence for astrophysical origin\n",
    "* NEUTRAL: neutral evidence\n",
    "* UNKNOWN: unknown from reported data\n",
    "* NEGATIVE: evidence for terrestrial origin (non-critical)\n",
    "* CRITICAL: good evidence for terrestiral origin (critical)\n",
    "* NOTVALID: not valid criterion for observation"
   ]
  },
  {
   "cell_type": "code",
   "execution_count": 1,
   "metadata": {
    "collapsed": true,
    "deletable": true,
    "editable": true
   },
   "outputs": [],
   "source": [
    "import cPickle as pkl"
   ]
  },
  {
   "cell_type": "code",
   "execution_count": 2,
   "metadata": {
    "collapsed": true,
    "deletable": true,
    "editable": true
   },
   "outputs": [],
   "source": [
    "criteria = {} # criteria status dictionary"
   ]
  },
  {
   "cell_type": "markdown",
   "metadata": {
    "deletable": true,
    "editable": true
   },
   "source": [
    "### Parameters"
   ]
  },
  {
   "cell_type": "code",
   "execution_count": 3,
   "metadata": {
    "collapsed": true,
    "deletable": true,
    "editable": true
   },
   "outputs": [],
   "source": [
    "frbStr = 'XAOREPEATER'"
   ]
  },
  {
   "cell_type": "code",
   "execution_count": 4,
   "metadata": {
    "collapsed": true,
    "deletable": true,
    "editable": true
   },
   "outputs": [],
   "source": [
    "criteria['DMexcess'] = 'POSITIVE' # high DM frac, depending on pointing"
   ]
  },
  {
   "cell_type": "code",
   "execution_count": 5,
   "metadata": {
    "collapsed": true,
    "deletable": true,
    "editable": true
   },
   "outputs": [],
   "source": [
    "criteria['SNR'] = 'POSITIVE' # high SNR\n",
    "criteria['flux'] = 'POSITIVE' # reasonable flux\n",
    "criteria['pulsewidth'] = 'POSITIVE' # reasonable pulse width\n",
    "criteria['multicomp'] = 'NEUTRAL' # two components seperated by a short time difference\n",
    "criteria['polarization'] = 'NOTVALID' # Stokes I data only\n",
    "criteria['broadband'] = 'NEUTRAL' # covers only a portion of the observing band\n",
    "criteria['spectralIndex'] = 'NEUTRAL' # flat spectral index\n",
    "criteria['highResStruct'] = 'NEUTRAL' # apparent high-resolution frequency structure\n",
    "criteria['scattering'] = 'POSITIVE' # no apparent scattering\n",
    "criteria['scintillation'] = 'POSITIVE' # maybe apparent scintillation\n",
    "criteria['dmSpace'] = 'POSITIVE' # clean DM-space within window\n",
    "criteria['dispersionRelation'] = 'CRITICAL' # deviates from nu^-2 relation\n",
    "criteria['bandpass'] = 'POSITIVE' # checked\n",
    "criteria['lowAltitude'] = 'CRITICAL' # multiple pointings\n",
    "#criteria['sysNoise'] = 'POSITIVE' # checked\n",
    "#criteria['correctFeed'] = 'POSITIVE' # checked\n",
    "#criteria['obsLog'] = 'POSITIVE' # checked\n",
    "#criteria['electronics'] = 'POSITIVE' # checked\n",
    "criteria['telState'] = 'POSITIVE'\n",
    "criteria['repeats'] = 'CRITICAL' # repeats in multiple pointing directions\n",
    "criteria['rfi'] = 'POSITIVE' # standard RFI environment\n",
    "criteria['gain'] = 'POSITIVE' # checked\n",
    "criteria['lowSNRsearch'] = 'NEGATIVE'\n",
    "criteria['multiBeam'] = 'NOTVALID' # single pixel feed\n",
    "criteria['TAB'] = 'NOTVALID'\n",
    "criteria['interferometric'] = 'NOTVALID'\n",
    "criteria['multiSite'] = 'NOTVALID'"
   ]
  },
  {
   "cell_type": "markdown",
   "metadata": {
    "deletable": true,
    "editable": true
   },
   "source": [
    "### Available Data"
   ]
  },
  {
   "cell_type": "code",
   "execution_count": 6,
   "metadata": {
    "collapsed": true,
    "deletable": true,
    "editable": true
   },
   "outputs": [],
   "source": [
    "criteria['dataSingleBeam'] = 'POSITIVE' # un-normalized filterbank files\n",
    "criteria['dataMultiBeam'] = 'NOTVALID'\n",
    "criteria['dataTAB'] = 'NOTVALID'\n",
    "criteria['dataInterferometric'] = 'NOTVALID'\n",
    "criteria['dataMultiSite'] = 'NOTVALID'\n",
    "criteria['dataVoltages'] = 'NOTVALID'"
   ]
  },
  {
   "cell_type": "code",
   "execution_count": 7,
   "metadata": {
    "collapsed": false,
    "deletable": true,
    "editable": true
   },
   "outputs": [
    {
     "name": "stdout",
     "output_type": "stream",
     "text": [
      "dataInterferometric: NOTVALID\n",
      "multiSite: NOTVALID\n",
      "multicomp: NEUTRAL\n",
      "lowAltitude: CRITICAL\n",
      "scattering: POSITIVE\n",
      "spectralIndex: NEUTRAL\n",
      "flux: POSITIVE\n",
      "broadband: NEUTRAL\n",
      "multiBeam: NOTVALID\n",
      "polarization: NOTVALID\n",
      "pulsewidth: POSITIVE\n",
      "DMexcess: POSITIVE\n",
      "TAB: NOTVALID\n",
      "dispersionRelation: CRITICAL\n",
      "telState: POSITIVE\n",
      "interferometric: NOTVALID\n",
      "gain: POSITIVE\n",
      "dataVoltages: NOTVALID\n",
      "dataMultiBeam: NOTVALID\n",
      "dataTAB: NOTVALID\n",
      "dmSpace: POSITIVE\n",
      "lowSNRsearch: NEGATIVE\n",
      "dataMultiSite: NOTVALID\n",
      "highResStruct: NEUTRAL\n",
      "SNR: POSITIVE\n",
      "rfi: POSITIVE\n",
      "repeats: CRITICAL\n",
      "scintillation: POSITIVE\n",
      "bandpass: POSITIVE\n",
      "dataSingleBeam: POSITIVE\n"
     ]
    }
   ],
   "source": [
    "for key in criteria.iterkeys():\n",
    "    print '%s: %s'%(key, criteria[key])\n",
    "\n",
    "outFn = 'criteria.%s.pkl'%frbStr\n",
    "ofh = open(outFn, 'wb')\n",
    "pkl.dump(criteria, ofh)\n",
    "ofh.close()"
   ]
  }
 ],
 "metadata": {
  "kernelspec": {
   "display_name": "Python 2",
   "language": "python",
   "name": "python2"
  },
  "language_info": {
   "codemirror_mode": {
    "name": "ipython",
    "version": 2
   },
   "file_extension": ".py",
   "mimetype": "text/x-python",
   "name": "python",
   "nbconvert_exporter": "python",
   "pygments_lexer": "ipython2",
   "version": "2.7.12"
  }
 },
 "nbformat": 4,
 "nbformat_minor": 2
}
