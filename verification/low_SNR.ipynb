{
 "cells": [
  {
   "cell_type": "markdown",
   "metadata": {
    "deletable": true,
    "editable": true
   },
   "source": [
    "## Low S/N\n",
    "\n",
    "FRB verification criteria.\n",
    "\n",
    "Criteria results:\n",
    "\n",
    "* POSTIVE: good evidence for astrophysical origin\n",
    "* NEUTRAL: neutral evidence\n",
    "* UNKNOWN: unknown from reported data\n",
    "* NEGATIVE: evidence for terrestrial origin (non-critical)\n",
    "* CRITICAL: good evidence for terrestiral origin (critical)\n",
    "* NOTVALID: not valid criterion for observation"
   ]
  },
  {
   "cell_type": "code",
   "execution_count": 1,
   "metadata": {
    "collapsed": true,
    "deletable": true,
    "editable": true
   },
   "outputs": [],
   "source": [
    "import cPickle as pkl"
   ]
  },
  {
   "cell_type": "code",
   "execution_count": 2,
   "metadata": {
    "collapsed": true,
    "deletable": true,
    "editable": true
   },
   "outputs": [],
   "source": [
    "criteria = {} # criteria status dictionary"
   ]
  },
  {
   "cell_type": "markdown",
   "metadata": {
    "deletable": true,
    "editable": true
   },
   "source": [
    "### Parameters"
   ]
  },
  {
   "cell_type": "code",
   "execution_count": 3,
   "metadata": {
    "collapsed": true,
    "deletable": true,
    "editable": true
   },
   "outputs": [],
   "source": [
    "frbStr = 'LOWSNR'"
   ]
  },
  {
   "cell_type": "code",
   "execution_count": 4,
   "metadata": {
    "collapsed": true,
    "deletable": true,
    "editable": true
   },
   "outputs": [],
   "source": [
    "criteria['DMexcess'] = 'POSITIVE'"
   ]
  },
  {
   "cell_type": "code",
   "execution_count": 5,
   "metadata": {
    "collapsed": false,
    "deletable": true,
    "editable": true
   },
   "outputs": [],
   "source": [
    "criteria['SNR'] = 'NEGATIVE' # low S/N be definition\n",
    "criteria['flux'] = 'NEGATIVE' # low flux\n",
    "criteria['pulsewidth'] = 'POSITIVE' # usually 'unresolved'\n",
    "criteria['multicomp'] = 'POSITIVE' # single component\n",
    "criteria['polarization'] = 'NOTVALID' # will not show polarization characteristics\n",
    "criteria['broadband'] = 'NEGATIVE' # will appear band-limited\n",
    "criteria['spectralIndex'] = 'NEGATIVE' # will apear to a have avariable spectral index\n",
    "criteria['highResStruct'] = 'NEUTRAL' # noise-like structure\n",
    "criteria['scattering'] = 'NEUTRAL' # no apparent scattering\n",
    "criteria['scintillation'] = 'NEUTRAL' # band limited perhaps due to scintillation\n",
    "criteria['dmSpace'] = 'NEGATIVE' # expect to see multiple events at varying DMs across a time window\n",
    "criteria['dispersionRelation'] = 'NEUTRAL' # too-low S/N to be fit\n",
    "criteria['bandpass'] = 'NEUTRAL' # because the system noise is higher there could be variation in the bandpass\n",
    "criteria['lowAltitude'] = 'POSITIVE' # can occur at any pointing\n",
    "#criteria['sysNoise'] = 'NEGATIVE' # expected to see an increase in the system noise\n",
    "#criteria['correctFeed'] = 'POSITIVE' # could be due to change in feeds or electronics or random\n",
    "#criteria['obsLog'] = 'POSITIVE' # obs log might indicate an origin\n",
    "#criteria['electronics'] = 'NEUTRAL' # could be due to change in feeds or electronics or random\n",
    "criteria['telState'] = 'NEGATIVE'\n",
    "criteria['repeats'] = 'NEUTRAL' # won't repeat\n",
    "criteria['rfi'] = 'POSITIVE' # standard RFI environment\n",
    "criteria['gain'] = 'NEUTRAL' # could be due to change in feeds or electronics or random\n",
    "criteria['lowSNRsearch'] = 'NEGATIVE' # should find more events at different DMs\n",
    "criteria['multiBeam'] = 'POSITIVE' # only seen in one beam\n",
    "criteria['TAB'] = 'NOTVALID' # only seen in one TAB\n",
    "criteria['interferometric'] = 'NOTVALID' # only been seen on a single baseline/antenna\n",
    "criteria['multiSite'] = 'NOTVALID' # only been seen at one site"
   ]
  },
  {
   "cell_type": "markdown",
   "metadata": {
    "deletable": true,
    "editable": true
   },
   "source": [
    "### Available Data"
   ]
  },
  {
   "cell_type": "code",
   "execution_count": 6,
   "metadata": {
    "collapsed": true,
    "deletable": true,
    "editable": true
   },
   "outputs": [],
   "source": [
    "#criteria['dataSingleBeam'] = 'POSITIVE' # observed with multiple telescopes and bands\n",
    "#criteria['dataMultiBeam'] = 'POSITIVE' # observed with multiple telescopes and bands\n",
    "#criteria['dataTAB'] = 'POSITIVE' # observed with multiple telescopes and bands\n",
    "#criteria['dataInterferometric'] = 'POSITIVE' # observed with multiple telescopes and bands\n",
    "#criteria['dataMultiSite'] = 'POSITIVE' # observed with multiple telescopes and bands\n",
    "#criteria['dataVoltages'] = 'POSITIVE' # observed with multiple telescopes and bands\n",
    "\n",
    "criteria['dataSingleBeam'] = 'NOTVALID'\n",
    "criteria['dataMultiBeam'] = 'NEUTRAL' # ALFABURST data is normalized\n",
    "criteria['dataTAB'] = 'NOTVALID'\n",
    "criteria['dataInterferometric'] = 'NOTVALID'\n",
    "criteria['dataMultiSite'] = 'NOTVALID'\n",
    "criteria['dataVoltages'] = 'NOTVALID'"
   ]
  },
  {
   "cell_type": "code",
   "execution_count": 7,
   "metadata": {
    "collapsed": false,
    "deletable": true,
    "editable": true
   },
   "outputs": [
    {
     "name": "stdout",
     "output_type": "stream",
     "text": [
      "dataInterferometric: NOTVALID\n",
      "multiSite: NOTVALID\n",
      "multicomp: POSITIVE\n",
      "lowAltitude: POSITIVE\n",
      "scattering: NEUTRAL\n",
      "spectralIndex: NEGATIVE\n",
      "flux: NEGATIVE\n",
      "broadband: NEGATIVE\n",
      "multiBeam: POSITIVE\n",
      "polarization: NOTVALID\n",
      "pulsewidth: POSITIVE\n",
      "DMexcess: POSITIVE\n",
      "TAB: NOTVALID\n",
      "dispersionRelation: NEUTRAL\n",
      "telState: NEGATIVE\n",
      "interferometric: NOTVALID\n",
      "gain: NEUTRAL\n",
      "dataVoltages: NOTVALID\n",
      "dataMultiBeam: NEUTRAL\n",
      "dataTAB: NOTVALID\n",
      "dmSpace: NEGATIVE\n",
      "lowSNRsearch: NEGATIVE\n",
      "dataMultiSite: NOTVALID\n",
      "highResStruct: NEUTRAL\n",
      "SNR: NEGATIVE\n",
      "rfi: POSITIVE\n",
      "repeats: NEUTRAL\n",
      "scintillation: NEUTRAL\n",
      "bandpass: NEUTRAL\n",
      "dataSingleBeam: NOTVALID\n"
     ]
    }
   ],
   "source": [
    "for key in criteria.iterkeys():\n",
    "    print '%s: %s'%(key, criteria[key])\n",
    "\n",
    "outFn = 'criteria.%s.pkl'%frbStr\n",
    "ofh = open(outFn, 'wb')\n",
    "pkl.dump(criteria, ofh)\n",
    "ofh.close()"
   ]
  }
 ],
 "metadata": {
  "kernelspec": {
   "display_name": "Python 2",
   "language": "python",
   "name": "python2"
  },
  "language_info": {
   "codemirror_mode": {
    "name": "ipython",
    "version": 2
   },
   "file_extension": ".py",
   "mimetype": "text/x-python",
   "name": "python",
   "nbconvert_exporter": "python",
   "pygments_lexer": "ipython2",
   "version": "2.7.12"
  }
 },
 "nbformat": 4,
 "nbformat_minor": 2
}
