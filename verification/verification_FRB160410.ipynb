{
 "cells": [
  {
   "cell_type": "markdown",
   "metadata": {},
   "source": [
    "## FRB160410\n",
    "\n",
    "FRB verification criteria.\n",
    "\n",
    "Criteria results:\n",
    "\n",
    "* POSTIVE: good evidence for astrophysical origin\n",
    "* NEUTRAL: neutral evidence\n",
    "* UNKNOWN: unknown from reported data\n",
    "* NEGATIVE: evidence for terrestrial origin (non-critical)\n",
    "* CRITICAL: good evidence for terrestiral origin (critical)\n",
    "* NOTVALID: not valid criterion for observation"
   ]
  },
  {
   "cell_type": "code",
   "execution_count": null,
   "metadata": {
    "collapsed": true
   },
   "outputs": [],
   "source": [
    "import numpy as np\n",
    "import matplotlib.pyplot as plt\n",
    "import seaborn as sns\n",
    "import lmfit\n",
    "import cPickle as pkl\n",
    "\n",
    "import astropy.time\n",
    "import astropy.coordinates\n",
    "import astropy.units\n",
    "\n",
    "import dedispersion\n",
    "import filterbankio\n",
    "import frbutils\n",
    "\n",
    "%matplotlib inline"
   ]
  },
  {
   "cell_type": "code",
   "execution_count": null,
   "metadata": {
    "collapsed": true
   },
   "outputs": [],
   "source": [
    "sns.set()\n",
    "sns.set_context(\"notebook\", rc={\"lines.linewidth\": 1.0})"
   ]
  },
  {
   "cell_type": "code",
   "execution_count": null,
   "metadata": {
    "collapsed": true
   },
   "outputs": [],
   "source": [
    "criteria = {} # criteria status dictionary"
   ]
  },
  {
   "cell_type": "markdown",
   "metadata": {},
   "source": [
    "### Parameters"
   ]
  },
  {
   "cell_type": "markdown",
   "metadata": {},
   "source": [
    "[The first interferometric detections of fast radio bursts](https://arxiv.org/abs/1703.10173)\n",
    "\n",
    "Data given by: Manisha Caleb"
   ]
  },
  {
   "cell_type": "markdown",
   "metadata": {},
   "source": [
    "### Dynamic Spectrum (Component Optimized)"
   ]
  },
  {
   "cell_type": "code",
   "execution_count": null,
   "metadata": {
    "collapsed": true
   },
   "outputs": [],
   "source": [
    "frbStr = 'FRB160410'\n",
    "frbFil = '/Users/kaustub/Work/Molonglo_filterbanks/extract.fil' # Filterbank file of FRB event (aslxlap07)\n",
    "fil = filterbankio.Filterbank(frbFil)"
   ]
  },
  {
   "cell_type": "code",
   "execution_count": null,
   "metadata": {
    "collapsed": true
   },
   "outputs": [],
   "source": [
    "### dynamic spectrum parameters\n",
    "timeFactor = 1\n",
    "freqFactor = 1\n",
    "dm = 277.8\n",
    "\n",
    "start_time = 2.5 # seconds\n",
    "time_window = 1.0# seconds\n",
    "\n",
    "applyGauss = True\n",
    "fGauss = 2.0 # bins\n",
    "tGauss = 2.0 # bins\n",
    "\n",
    "rfi = []\n",
    "#rfi = [[205,235], [940,1023]] # frequency channels to flag as rfi, pairs are the edges of bands"
   ]
  },
  {
   "cell_type": "code",
   "execution_count": null,
   "metadata": {
    "scrolled": true
   },
   "outputs": [],
   "source": [
    "decwaterfall, decddwaterfall, tInt, freqs = frbutils.dynamicSpectrum(frbFil, start_time, time_window,\n",
    "                                                timeFactor=timeFactor, freqFactor=freqFactor,\n",
    "                                                dm=dm,\n",
    "                                                applyGauss=applyGauss, fGauss=fGauss, tGauss=tGauss,\n",
    "                                                rfi=rfi)"
   ]
  },
  {
   "cell_type": "markdown",
   "metadata": {},
   "source": [
    "#### DM Excess\n",
    "\n",
    "Using https://www.nrl.navy.mil/rsd/RORF/ne2001/\n",
    "\n",
    "(RA, Dec) = (08:41:25, +06:05:05)\n",
    "\n",
    "Galactic pointing: (l, b) = (220.4, 27.2)"
   ]
  },
  {
   "cell_type": "code",
   "execution_count": null,
   "metadata": {},
   "outputs": [],
   "source": [
    "DM_galaxy = 57.43\n",
    "DM_excess = float(dm) / DM_galaxy\n",
    "print 'DM Excess fraction:', DM_excess"
   ]
  },
  {
   "cell_type": "code",
   "execution_count": null,
   "metadata": {
    "collapsed": true
   },
   "outputs": [],
   "source": [
    "criteria['compDMfrac'] = 'POSITIVE' # contributions exceeds Galactic\n",
    "criteria['snrDMfrac'] = 'NOTVALID' # multiple components"
   ]
  },
  {
   "cell_type": "markdown",
   "metadata": {},
   "source": [
    "#### TIme Series\n",
    "Since there is an issue with the way means are computed for Molonglo filterbanks, flip the signs of the output to make it consistent."
   ]
  },
  {
   "cell_type": "code",
   "execution_count": null,
   "metadata": {
    "collapsed": true
   },
   "outputs": [],
   "source": [
    "ddTimeSeries = np.mean(decddwaterfall, axis=1)\n",
    "Tmean = np.mean(ddTimeSeries[0:400])\n",
    "ddTimeSeries_base = ddTimeSeries - Tmean"
   ]
  },
  {
   "cell_type": "code",
   "execution_count": null,
   "metadata": {
    "collapsed": true
   },
   "outputs": [],
   "source": [
    "ddTimeSeries_new = np.negative(ddTimeSeries_base)"
   ]
  },
  {
   "cell_type": "code",
   "execution_count": null,
   "metadata": {},
   "outputs": [],
   "source": [
    "#plt.plot(np.mean(decddwaterfall, axis=0))\n",
    "print np.mean(decddwaterfall, axis=0).shape\n",
    "\n",
    "print decddwaterfall.shape\n",
    "\n",
    "normdecddwaterfall = decddwaterfall - np.mean(decddwaterfall, axis=0)\n",
    "print normdecddwaterfall.shape\n",
    "normdecddwaterfall_new = np.negative(normdecddwaterfall)"
   ]
  },
  {
   "cell_type": "markdown",
   "metadata": {},
   "source": [
    "#### Stokes I Plot"
   ]
  },
  {
   "cell_type": "code",
   "execution_count": null,
   "metadata": {},
   "outputs": [],
   "source": [
    "cmap = 'magma'\n",
    "sns.set_style('white', rc={'axes.linewidth': 0.5})\n",
    "\n",
    "\n",
    "fig = plt.figure(figsize=(8,9)) # (width, height)\n",
    "\n",
    "ax1 = plt.subplot2grid((3, 3), (0, 0), colspan=3, rowspan=2)\n",
    "\n",
    "imRaw = plt.imshow(np.flipud(normdecddwaterfall.T), extent=(0, tInt*decddwaterfall.shape[0],\\\n",
    "                        freqs[0], freqs[-1]), aspect='auto', cmap=plt.get_cmap(cmap), interpolation='nearest')\n",
    "# crop out RFI flagged high freqs\n",
    "#imRaw = plt.imshow(np.flipud(decddwaterfall[:,:850].T), extent=(0, tInt*decddwaterfall.shape[0],\\\n",
    "#                        freqs[0], freqs[850]), aspect='auto', cmap=plt.get_cmap(cmap), interpolation='nearest')\n",
    "for rfiPair in rfi:\n",
    "    plt.axhspan(freqs[rfiPair[0]/freqFactor], freqs[rfiPair[1]/freqFactor], alpha=0.4, color='y')\n",
    "plt.ylabel('MHz')\n",
    "\n",
    "ax1.get_xaxis().set_visible(False)\n",
    "\n",
    "ax2 = plt.subplot2grid((3, 3), (2, 0), colspan=3)\n",
    "lineColor = 'k'\n",
    "plt.plot(1000.*tInt*np.arange(decddwaterfall.shape[0]), ddTimeSeries, lineColor, alpha=0.8)\n",
    "plt.xlim(0, 1000.*tInt*ddTimeSeries.shape[0])\n",
    "plt.title('DM=%0.f'%float(dm))\n",
    "plt.xlabel('ms')\n",
    "ax2.get_yaxis().set_visible(False)\n",
    "\n",
    "plt.tight_layout()\n",
    "#plt.savefig('%s_dynamic_dm%0.f.png'%(frbStr,dm))\n",
    "plt.savefig('%s_dynamic.png'%(frbStr))"
   ]
  },
  {
   "cell_type": "markdown",
   "metadata": {},
   "source": [
    "#### Signal to Noise"
   ]
  },
  {
   "cell_type": "code",
   "execution_count": null,
   "metadata": {},
   "outputs": [],
   "source": [
    "SNR = (ddTimeSeries.max() - ddTimeSeries.mean()) / ddTimeSeries.std()\n",
    "print 'S/N:', SNR"
   ]
  },
  {
   "cell_type": "code",
   "execution_count": null,
   "metadata": {
    "collapsed": true
   },
   "outputs": [],
   "source": [
    "criteria['SNR'] = 'POSITIVE' # High S/N"
   ]
  },
  {
   "cell_type": "markdown",
   "metadata": {},
   "source": [
    "#### Boresight Flux"
   ]
  },
  {
   "cell_type": "code",
   "execution_count": null,
   "metadata": {},
   "outputs": [],
   "source": [
    "SEFD = 110. # Jy, approximate SEFD of Parkes L-band\n",
    "flux = frbutils.flux(SEFD, SNR, 1, 2, tInt, (freqs[-1]-freqs[0])*1e6)\n",
    "print 'flux: %f Jy'%flux"
   ]
  },
  {
   "cell_type": "code",
   "execution_count": null,
   "metadata": {
    "collapsed": true
   },
   "outputs": [],
   "source": [
    "criteria['flux'] = 'NEUTRAL' # low flux for the band"
   ]
  },
  {
   "cell_type": "markdown",
   "metadata": {},
   "source": [
    "#### Components"
   ]
  },
  {
   "cell_type": "code",
   "execution_count": null,
   "metadata": {
    "collapsed": true
   },
   "outputs": [],
   "source": [
    "### dynamic spectrum parameters\n",
    "timeFactor = 2\n",
    "freqFactor = 2\n",
    "dm = 277.8\n",
    "\n",
    "start_time = 2.5 # seconds\n",
    "time_window = 1.0 # seconds\n",
    "\n",
    "applyGauss = True\n",
    "fGauss = 2.0 # bins\n",
    "tGauss = 2.0 # bins\n",
    "\n",
    "rfi =[]\n",
    "#rfi = [[205,235], [940,1023]] # frequency channels to flag as rfi, pairs are the edges of bands"
   ]
  },
  {
   "cell_type": "code",
   "execution_count": null,
   "metadata": {
    "collapsed": true
   },
   "outputs": [],
   "source": [
    "decwaterfall, decddwaterfall, tInt, freqs = frbutils.dynamicSpectrum(frbFil, start_time, time_window,\n",
    "                                                timeFactor=timeFactor, freqFactor=freqFactor,\n",
    "                                                dm=dm,\n",
    "                                                applyGauss=applyGauss, fGauss=fGauss, tGauss=tGauss,\n",
    "                                                rfi=rfi)"
   ]
  },
  {
   "cell_type": "code",
   "execution_count": null,
   "metadata": {
    "collapsed": true
   },
   "outputs": [],
   "source": [
    "ddTimeSeries = np.mean(decddwaterfall, axis=1)\n",
    "Tmean = np.mean(ddTimeSeries[0:400])\n",
    "ddTimeSeries_base = ddTimeSeries - Tmean"
   ]
  },
  {
   "cell_type": "code",
   "execution_count": null,
   "metadata": {},
   "outputs": [],
   "source": [
    "#plt.plot(np.mean(decddwaterfall, axis=0))\n",
    "print np.mean(decddwaterfall, axis=0).shape\n",
    "\n",
    "print decddwaterfall.shape\n",
    "\n",
    "normdecddwaterfall = decddwaterfall - np.mean(decddwaterfall[0:400], axis=0)\n",
    "print normdecddwaterfall.shape\n",
    "normdecddwaterfall_new = np.negative(normdecddwaterfall)"
   ]
  },
  {
   "cell_type": "code",
   "execution_count": null,
   "metadata": {},
   "outputs": [],
   "source": [
    "cmap = 'magma'\n",
    "sns.set_style('white', rc={'axes.linewidth': 0.5})\n",
    "\n",
    "fig = plt.figure(figsize=(12,6)) # (width, height)\n",
    "\n",
    "ax1 = plt.subplot2grid((3, 3), (0, 0), colspan=3, rowspan=2)\n",
    "\n",
    "imRaw = plt.imshow(np.flipud(normdecddwaterfall.T), extent=(0, tInt*decddwaterfall.shape[0],\\\n",
    "                        freqs[0], freqs[-1]), aspect='auto', cmap=plt.get_cmap(cmap), interpolation='nearest')\n",
    "# crop out RFI flagged high freqs\n",
    "#imRaw = plt.imshow(np.flipud(decddwaterfall[:,:850].T), extent=(0, tInt*decddwaterfall.shape[0],\\\n",
    "#                        freqs[0], freqs[850]), aspect='auto', cmap=plt.get_cmap(cmap), interpolation='nearest')\n",
    "for rfiPair in rfi:\n",
    "    plt.axhspan(freqs[rfiPair[0]/freqFactor], freqs[rfiPair[1]/freqFactor], alpha=0.4, color='y')\n",
    "plt.ylabel('MHz')\n",
    "\n",
    "ax1.get_xaxis().set_visible(False)\n",
    "\n",
    "ax2 = plt.subplot2grid((3, 3), (2, 0), colspan=3)\n",
    "lineColor = 'k'\n",
    "plt.plot(1000.*tInt*np.arange(decddwaterfall.shape[0]), ddTimeSeries, lineColor, alpha=0.8)\n",
    "plt.xlim(0, 1000.*tInt*ddTimeSeries.shape[0])\n",
    "plt.title('DM=%0.f'%float(dm))\n",
    "plt.xlabel('ms')\n",
    "ax2.get_yaxis().set_visible(False)\n",
    "\n",
    "plt.tight_layout()"
   ]
  },
  {
   "cell_type": "code",
   "execution_count": null,
   "metadata": {},
   "outputs": [],
   "source": [
    "print ddTimeSeries_new.shape"
   ]
  },
  {
   "cell_type": "code",
   "execution_count": null,
   "metadata": {},
   "outputs": [],
   "source": [
    "# Assume pulse can be modelled as a set of Gaussian components on a constant offset\n",
    "nComponents = 1 # number of components in pulse\n",
    "\n",
    "pulseModel = lmfit.models.ConstantModel()\n",
    "for nc in np.arange(nComponents):\n",
    "    gaussComp = lmfit.models.GaussianModel(prefix='nc%i'%nc)\n",
    "    pulseModel += gaussComp\n",
    "\n",
    "#print pulseModel\n",
    "params = pulseModel.make_params(nc0center=35., nc0sigma=1., nc0amplitude=0.05, nc1center=40., nc1sigma=1., nc1amplitude=0.05)\n",
    "#params = pulseModel.make_params()\n",
    "\n",
    "#select only region around pulse for fit\n",
    "tIdx0 = 375\n",
    "tIdx1 = 410\n",
    "ddTimeSeriesCent = ddTimeSeries[tIdx0:tIdx1]\n",
    "result = pulseModel.fit(ddTimeSeriesCent, params, x=1000.*tInt*np.arange(ddTimeSeriesCent.shape[0]))\n",
    "print result.fit_report()\n",
    "\n",
    "fig = plt.figure(figsize=(12,6)) # (width, height)\n",
    "\n",
    "ax1 = plt.subplot(2,1,1)\n",
    "lineColor = 'k'\n",
    "plt.plot(1000.*tInt*np.arange(ddTimeSeries.shape[0]), ddTimeSeries, lineColor, alpha=0.8)\n",
    "plt.plot(1000.*tInt*(np.arange(ddTimeSeriesCent.shape[0])+tIdx0), result.best_fit, alpha=0.8)\n",
    "plt.xlim(0, 1000.*tInt*ddTimeSeries.shape[0])\n",
    "plt.xlabel('ms')\n",
    "\n",
    "ax2 = plt.subplot(2,1,2)\n",
    "lineColor = 'k'\n",
    "plt.plot(1000.*tInt*(np.arange(ddTimeSeriesCent.shape[0])+tIdx0), ddTimeSeriesCent - result.best_fit,\\\n",
    "         lineColor, alpha=0.8)\n",
    "plt.xlim(0, 1000.*tInt*ddTimeSeries.shape[0])\n",
    "plt.xlabel('ms')\n",
    "\n",
    "print 'NCOMPONENTS:', nComponents\n",
    "for nc in np.arange(nComponents):\n",
    "    print 'FWHM%i (ms):'%nc, result.params['nc%ifwhm'%nc].value"
   ]
  },
  {
   "cell_type": "code",
   "execution_count": null,
   "metadata": {
    "collapsed": true
   },
   "outputs": [],
   "source": [
    "criteria['pulsewidth'] = 'NEUTRAL' # fit to a single component model\n",
    "criteria['multicomp'] = 'NEGATIVE' # no multiple components"
   ]
  },
  {
   "cell_type": "markdown",
   "metadata": {},
   "source": [
    "### Polarization"
   ]
  },
  {
   "cell_type": "code",
   "execution_count": null,
   "metadata": {
    "collapsed": true
   },
   "outputs": [],
   "source": [
    "criteria['polarization'] = 'NOTVALID' # not recorded"
   ]
  },
  {
   "cell_type": "markdown",
   "metadata": {},
   "source": [
    "### Spectral Index"
   ]
  },
  {
   "cell_type": "code",
   "execution_count": null,
   "metadata": {
    "collapsed": true
   },
   "outputs": [],
   "source": [
    "### dynamic spectrum parameters\n",
    "timeFactor = 1\n",
    "freqFactor = 1\n",
    "dm = 277.8\n",
    "\n",
    "start_time = 2.5 # seconds\n",
    "time_window = 1.0 # seconds\n",
    "\n",
    "applyGauss = True\n",
    "fGauss = 2. # bins\n",
    "tGauss = 2. # bins\n",
    "\n",
    "rfi = []\n",
    "#rfi = [[205,235], [840,1023]] # frequency channels to flag as rfi, pairs are the edges of bands"
   ]
  },
  {
   "cell_type": "code",
   "execution_count": null,
   "metadata": {
    "collapsed": true
   },
   "outputs": [],
   "source": [
    "decwaterfall, decddwaterfall, tInt, freqs = frbutils.dynamicSpectrum(frbFil, start_time, time_window,\n",
    "                                                timeFactor=timeFactor, freqFactor=freqFactor,\n",
    "                                                dm=dm,\n",
    "                                                applyGauss=applyGauss, fGauss=fGauss, tGauss=tGauss,\n",
    "                                                rfi=rfi)"
   ]
  },
  {
   "cell_type": "code",
   "execution_count": null,
   "metadata": {
    "collapsed": true
   },
   "outputs": [],
   "source": [
    "ddTimeSeries = np.mean(decddwaterfall, axis=1)"
   ]
  },
  {
   "cell_type": "code",
   "execution_count": null,
   "metadata": {},
   "outputs": [],
   "source": [
    "print decddwaterfall.shape"
   ]
  },
  {
   "cell_type": "code",
   "execution_count": null,
   "metadata": {},
   "outputs": [],
   "source": [
    "# upper and lower frequency of pulse\n",
    "# if pulse goes to the edge of beam, set to None\n",
    "upperFreqMHz = freqs[39]\n",
    "lowerFreqMHz = freqs[0]\n",
    "obsFracBand = (freqs[-1]-freqs[0]) / ((freqs[-1]+freqs[0])/2.) # observational fractional bandwidth\n",
    "print 'START OBS FREQ (MHz):', freqs[0]\n",
    "print 'STOP OBS FREQ (MHz):', freqs[-1]\n",
    "print 'BANDWIDTH (MHz):', freqs[-1]-freqs[0]\n",
    "print 'FRACTIONAL OBS BANDWIDTH:', obsFracBand\n",
    "print 'FRACTIONAL PULSE BANDWIDTH:', (upperFreqMHz - lowerFreqMHz) / ((upperFreqMHz+lowerFreqMHz)/2.)"
   ]
  },
  {
   "cell_type": "code",
   "execution_count": null,
   "metadata": {
    "collapsed": true
   },
   "outputs": [],
   "source": [
    "criteria['broadband'] = 'POSITIVE'"
   ]
  },
  {
   "cell_type": "code",
   "execution_count": null,
   "metadata": {
    "collapsed": true
   },
   "outputs": [],
   "source": [
    "# region to use for spectral index fit\n",
    "\n",
    "# select between freq limits\n",
    "upperFreqIdx = np.argmin(np.abs(freqs - upperFreqMHz))\n",
    "lowerFreqIdx = np.argmin(np.abs(freqs - lowerFreqMHz))\n",
    "\n",
    "# select around peak\n",
    "peakIdx = np.unravel_index(np.argmax(decddwaterfall), decddwaterfall.shape)\n",
    "tWidth = 3 # number of time stample to take on eiter side of peak"
   ]
  },
  {
   "cell_type": "code",
   "execution_count": null,
   "metadata": {},
   "outputs": [],
   "source": [
    "cmap = 'magma'\n",
    "sns.set_style('white', rc={'axes.linewidth': 0.5})\n",
    "\n",
    "fig = plt.figure(figsize=(12,6)) # (width, height)\n",
    "\n",
    "ax1 = plt.subplot2grid((3, 3), (0, 0), colspan=3, rowspan=2)\n",
    "\n",
    "imRaw = plt.imshow(np.flipud(decddwaterfall.T), extent=(0, tInt*decddwaterfall.shape[0],\\\n",
    "                        freqs[0], freqs[-1]), aspect='auto', cmap=plt.get_cmap(cmap), interpolation='nearest')\n",
    "# crop out RFI flagged high freqs\n",
    "#imRaw = plt.imshow(np.flipud(decddwaterfall[:,:850].T), extent=(0, tInt*decddwaterfall.shape[0],\\\n",
    "#                        freqs[0], freqs[850]), aspect='auto', cmap=plt.get_cmap(cmap), interpolation='nearest')\n",
    "\n",
    "for rfiPair in rfi:\n",
    "    plt.axhspan(freqs[rfiPair[0]/freqFactor], freqs[rfiPair[1]/freqFactor], alpha=0.4, color='y')\n",
    "plt.ylabel('MHz')\n",
    "plt.axhline(y=upperFreqMHz, c='k', lw=2, ls='--')\n",
    "plt.axhline(y=lowerFreqMHz, c='k', lw=2, ls='--')\n",
    "plt.scatter(tInt*peakIdx[0], freqs[peakIdx[1]])\n",
    "plt.axvline(x=tInt*(peakIdx[0]-tWidth), c='k', lw=2, ls='--')\n",
    "plt.axvline(x=tInt*(peakIdx[0]+tWidth), c='k', lw=2, ls='--')\n",
    "\n",
    "ax1.get_xaxis().set_visible(False)\n",
    "\n",
    "ax2 = plt.subplot2grid((3, 3), (2, 0), colspan=3)\n",
    "lineColor = 'k'\n",
    "plt.plot(1000.*tInt*np.arange(decddwaterfall.shape[0]), ddTimeSeries, lineColor, alpha=0.8)\n",
    "plt.xlim(0, 1000.*tInt*ddTimeSeries.shape[0])\n",
    "plt.title('DM=%0.f'%dm)\n",
    "plt.xlabel('ms')\n",
    "ax2.get_yaxis().set_visible(False)\n",
    "\n",
    "plt.tight_layout()"
   ]
  },
  {
   "cell_type": "code",
   "execution_count": null,
   "metadata": {},
   "outputs": [],
   "source": [
    "spectralRaw = decddwaterfall[peakIdx[0]-tWidth:peakIdx[0]+tWidth].mean(axis=0)\n",
    "\n",
    "vaildFreqMask = np.zeros_like(spectralRaw)\n",
    "vaildFreqMask[lowerFreqIdx:upperFreqIdx] = 1.\n",
    "for freqPair in rfi:\n",
    "    vaildFreqMask[freqPair[0]:freqPair[1]] = 0.\n",
    "\n",
    "spectralModel = lmfit.models.ConstantModel() + lmfit.models.PowerLawModel()\n",
    "spectralParams = spectralModel.make_params()\n",
    "spectralResult = spectralModel.fit(spectralRaw[vaildFreqMask.astype(bool)],\\\n",
    "                                   spectralParams, x=freqs[vaildFreqMask.astype(bool)]*1e6)\n",
    "print spectralResult.fit_report()\n",
    "\n",
    "fig = plt.figure(figsize=(12,6)) # (width, height)\n",
    "\n",
    "lineColor = 'k'\n",
    "plt.plot(freqs, spectralRaw, lineColor, alpha=0.8)\n",
    "plt.plot(freqs[vaildFreqMask.astype(bool)], spectralResult.best_fit, alpha=0.8)\n",
    "\n",
    "plt.axvspan(freqs[0], freqs[lowerFreqIdx], alpha=0.3)\n",
    "plt.axvspan(freqs[upperFreqIdx], freqs[-1], alpha=0.3)\n",
    "for freqPair in rfi:\n",
    "    plt.axvspan(freqs[freqPair[0]/freqFactor], freqs[freqPair[1]/freqFactor], alpha=0.3)\n",
    "\n",
    "plt.xlabel('MHz')\n",
    "plt.xlim(freqs[0], freqs[-1])\n",
    "\n",
    "print 'SPECTRAL INDEX:', spectralResult.params['exponent'].value"
   ]
  },
  {
   "cell_type": "code",
   "execution_count": null,
   "metadata": {
    "collapsed": true
   },
   "outputs": [],
   "source": [
    "criteria['spectralIndex'] = 'NEGATIVE' # approximately flat across the band"
   ]
  },
  {
   "cell_type": "markdown",
   "metadata": {},
   "source": [
    "### High-resolution Structure"
   ]
  },
  {
   "cell_type": "code",
   "execution_count": null,
   "metadata": {
    "collapsed": true
   },
   "outputs": [],
   "source": [
    "### dynamic spectrum parameters\n",
    "timeFactor = 2\n",
    "freqFactor = 2\n",
    "dm = 277.8\n",
    "\n",
    "start_time = 2.9 # seconds\n",
    "time_window = 0.2 # seconds\n",
    "\n",
    "applyGauss = True\n",
    "fGauss = 1. # bins\n",
    "tGauss = 1. # bins\n",
    "\n",
    "rfi = []\n",
    "#rfi = [[205,235], [940,1023]] # frequency channels to flag as rfi, pairs are the edges of bands"
   ]
  },
  {
   "cell_type": "code",
   "execution_count": null,
   "metadata": {
    "collapsed": true
   },
   "outputs": [],
   "source": [
    "decwaterfall, decddwaterfall, tInt, freqs = frbutils.dynamicSpectrum(frbFil, start_time, time_window,\n",
    "                                                timeFactor=timeFactor, freqFactor=freqFactor,\n",
    "                                                dm=dm,\n",
    "                                                applyGauss=applyGauss, fGauss=fGauss, tGauss=tGauss,\n",
    "                                                rfi=rfi)"
   ]
  },
  {
   "cell_type": "code",
   "execution_count": null,
   "metadata": {
    "collapsed": true
   },
   "outputs": [],
   "source": [
    "ddTimeSeries = np.mean(decddwaterfall, axis=1)"
   ]
  },
  {
   "cell_type": "code",
   "execution_count": null,
   "metadata": {},
   "outputs": [],
   "source": [
    "cmap = 'magma'\n",
    "sns.set_style('white', rc={'axes.linewidth': 0.5})\n",
    "\n",
    "fig = plt.figure(figsize=(12,6)) # (width, height)\n",
    "\n",
    "ax1 = plt.subplot2grid((3, 3), (0, 0), colspan=3, rowspan=2)\n",
    "\n",
    "imRaw = plt.imshow(np.flipud(decddwaterfall.T), extent=(0, tInt*decddwaterfall.shape[0],\\\n",
    "                        freqs[0], freqs[-1]), aspect='auto', cmap=plt.get_cmap(cmap), interpolation='nearest')\n",
    "\n",
    "for rfiPair in rfi:\n",
    "    plt.axhspan(freqs[rfiPair[0]/freqFactor], freqs[rfiPair[1]/freqFactor], alpha=0.4, color='y')\n",
    "plt.ylabel('MHz')\n",
    "\n",
    "ax1.get_xaxis().set_visible(False)\n",
    "\n",
    "ax2 = plt.subplot2grid((3, 3), (2, 0), colspan=3)\n",
    "lineColor = 'k'\n",
    "plt.plot(1000.*tInt*np.arange(decddwaterfall.shape[0]), ddTimeSeries, lineColor, alpha=0.8)\n",
    "plt.xlim(0, 1000.*tInt*ddTimeSeries.shape[0])\n",
    "plt.title('DM=%0.f'%dm)\n",
    "plt.xlabel('ms')\n",
    "ax2.get_yaxis().set_visible(False)\n",
    "\n",
    "plt.tight_layout()"
   ]
  },
  {
   "cell_type": "code",
   "execution_count": null,
   "metadata": {
    "collapsed": true
   },
   "outputs": [],
   "source": [
    "criteria['highResStruct'] = 'NEUTRAL' # difficiult to tell, maybe the components are more boxcar than Gaussian"
   ]
  },
  {
   "cell_type": "markdown",
   "metadata": {},
   "source": [
    "### Scattering\n",
    "\n",
    "* compute scatter timescale in time series (function)"
   ]
  },
  {
   "cell_type": "code",
   "execution_count": null,
   "metadata": {
    "collapsed": true
   },
   "outputs": [],
   "source": [
    "criteria['scattering'] = 'NOTVALID'"
   ]
  },
  {
   "cell_type": "markdown",
   "metadata": {},
   "source": [
    "### Scintillation\n",
    "\n",
    "* compute characteristic scintillation bandwidth, FFT of spectrum (function)"
   ]
  },
  {
   "cell_type": "code",
   "execution_count": null,
   "metadata": {
    "collapsed": true
   },
   "outputs": [],
   "source": [
    "criteria['scintillation'] = 'NOTVALID'"
   ]
  },
  {
   "cell_type": "markdown",
   "metadata": {},
   "source": [
    "### DM Trial Space"
   ]
  },
  {
   "cell_type": "code",
   "execution_count": null,
   "metadata": {
    "collapsed": true
   },
   "outputs": [],
   "source": [
    "# High-res\n",
    "timeFactor = 4\n",
    "\n",
    "minDM = 270.0\n",
    "maxDM = 280.0\n",
    "dmStep = 0.1\n",
    "\n",
    "start_time = 2.5 # seconds\n",
    "time_window = 1.0 # seconds\n",
    "\n",
    "applyGauss = False\n",
    "fGauss = 2. # bins\n",
    "tGauss = 2. # bins\n",
    "\n",
    "rfi = []\n",
    "#rfi = [[205,235], [940,1023]] # frequency channels to flag as rfi, pairs are the edges of bands"
   ]
  },
  {
   "cell_type": "code",
   "execution_count": null,
   "metadata": {},
   "outputs": [],
   "source": [
    "dmSpaceArr, tInt, freqs = frbutils.dmSpace(frbFil, start_time, time_window,\n",
    "                                          minDM, maxDM, dmStep, timeFactor, rfi=rfi)"
   ]
  },
  {
   "cell_type": "code",
   "execution_count": null,
   "metadata": {},
   "outputs": [],
   "source": [
    "cmap = 'viridis'\n",
    "sns.set_style('white', rc={'axes.linewidth': 0.5})\n",
    "\n",
    "fig = plt.figure(figsize=(12,6)) # (width, height)\n",
    "\n",
    "tClipLow = 200. # (start) ms\n",
    "tClipHigh = 600. # (width) ms\n",
    "plt.imshow(np.flipud(dmSpaceArr[:,int((tClipLow/1000.)/tInt):int(((tClipLow+tClipHigh)/1000.)/tInt)]),\\\n",
    "           aspect='auto',\\\n",
    "           extent=(0, 1000.*tInt*int((tClipHigh/1000.)/tInt), minDM, maxDM),\\\n",
    "           cmap=plt.get_cmap(cmap), interpolation='nearest')\n",
    "\n",
    "plt.ylabel('DM')\n",
    "plt.xlabel('t (ms)')\n",
    "#plt.colorbar(fraction=0.025)"
   ]
  },
  {
   "cell_type": "code",
   "execution_count": null,
   "metadata": {
    "collapsed": true
   },
   "outputs": [],
   "source": [
    "# Low-res\n",
    "timeFactor = 16\n",
    "\n",
    "minDM = -400\n",
    "maxDM = 400\n",
    "dmStep = 4\n",
    "\n",
    "start_time = 2. # seconds\n",
    "time_window = 2. # seconds\n",
    "\n",
    "applyGauss = False\n",
    "fGauss = 2. # bins\n",
    "tGauss = 2. # bins\n",
    "\n",
    "rfi = []\n",
    "#rfi = [[205,235], [940,1023]] # frequency channels to flag as rfi, pairs are the edges of bands"
   ]
  },
  {
   "cell_type": "code",
   "execution_count": null,
   "metadata": {},
   "outputs": [],
   "source": [
    "dmSpaceArrLow, tInt, freqs = frbutils.dmSpace(frbFil, start_time, time_window,\n",
    "                                          minDM, maxDM, dmStep, timeFactor, rfi=rfi)"
   ]
  },
  {
   "cell_type": "code",
   "execution_count": null,
   "metadata": {},
   "outputs": [],
   "source": [
    "cmap = 'viridis'\n",
    "sns.set_style('white', rc={'axes.linewidth': 0.5})\n",
    "\n",
    "fig = plt.figure(figsize=(12,6)) # (width, height)\n",
    "\n",
    "tClipLow = 0. # (start) ms\n",
    "tClipHigh = 2000. # (width) ms\n",
    "plt.imshow(np.flipud(dmSpaceArrLow[:,int((tClipLow/1000.)/tInt):int(((tClipLow+tClipHigh)/1000.)/tInt)]),\\\n",
    "           aspect='auto',\\\n",
    "           extent=(0, 1000.*tInt*int((tClipHigh/1000.)/tInt), minDM, maxDM),\\\n",
    "           cmap=plt.get_cmap(cmap), interpolation='nearest')\n",
    "\n",
    "plt.ylabel('DM')\n",
    "plt.xlabel('t (ms)')\n",
    "#plt.colorbar(fraction=0.025)"
   ]
  },
  {
   "cell_type": "code",
   "execution_count": null,
   "metadata": {},
   "outputs": [],
   "source": [
    "cmap = 'viridis'\n",
    "sns.set_style('white', rc={'axes.linewidth': 0.5})\n",
    "\n",
    "fig = plt.figure(figsize=(12,6)) # (width, height)\n",
    "\n",
    "tClipLow = 0. # (start) ms\n",
    "tClipHigh = 2000. # (width) ms\n",
    "plt.imshow(np.flipud(dmSpaceArrLow[:,int((tClipLow/1000.)/tInt):int(((tClipLow+tClipHigh)/1000.)/tInt)]),\\\n",
    "           aspect='auto',\\\n",
    "           extent=(0, 1000.*tInt*int((tClipHigh/1000.)/tInt), minDM, maxDM),\\\n",
    "           cmap=plt.get_cmap(cmap), interpolation='nearest')\n",
    "\n",
    "plt.ylabel('DM')\n",
    "plt.xlabel('t (ms)')\n",
    "#plt.colorbar(fraction=0.025)"
   ]
  },
  {
   "cell_type": "code",
   "execution_count": null,
   "metadata": {},
   "outputs": [],
   "source": [
    "cmap = 'viridis'\n",
    "sns.set_style('white', rc={'axes.linewidth': 0.5})\n",
    "\n",
    "fig = plt.figure(figsize=(12,6)) # (width, height)\n",
    "\n",
    "tClipLow = 500. # (start) ms\n",
    "tClipHigh = 1000. # (width) ms\n",
    "plt.imshow(np.flipud(dmSpaceArrLow[:,int((tClipLow/1000.)/tInt):int(((tClipLow+tClipHigh)/1000.)/tInt)]),\\\n",
    "           aspect='auto',\\\n",
    "           extent=(0, 1000.*tInt*int((tClipHigh/1000.)/tInt), minDM, maxDM),\\\n",
    "           cmap=plt.get_cmap(cmap), interpolation='nearest')\n",
    "\n",
    "plt.ylabel('DM')\n",
    "plt.xlabel('t (ms)')\n",
    "#plt.colorbar(fraction=0.025)"
   ]
  },
  {
   "cell_type": "code",
   "execution_count": null,
   "metadata": {},
   "outputs": [],
   "source": [
    "cmap = 'viridis'\n",
    "sns.set_style('white', rc={'axes.linewidth': 0.5})\n",
    "\n",
    "fig = plt.figure(figsize=(12,6)) # (width, height)\n",
    "\n",
    "tClipLow = 500. # (start) ms\n",
    "tClipHigh = 1000. # (width) ms\n",
    "plt.imshow(np.flipud(dmSpaceArrLow[:,int((tClipLow/1000.)/tInt):int(((tClipLow+tClipHigh)/1000.)/tInt)]),\\\n",
    "           aspect='auto',\\\n",
    "           extent=(0, 1000.*tInt*int((tClipHigh/1000.)/tInt), minDM, maxDM),\\\n",
    "           cmap=plt.get_cmap(cmap), interpolation='nearest')\n",
    "\n",
    "plt.ylabel('DM')\n",
    "plt.xlabel('t (ms)')\n",
    "#plt.colorbar(fraction=0.025)"
   ]
  },
  {
   "cell_type": "code",
   "execution_count": null,
   "metadata": {
    "collapsed": true
   },
   "outputs": [],
   "source": [
    "# No other bright regions in the DM trial space\n",
    "# No obvious bias in positive or negative DM trial\n",
    "criteria['dmSpace'] = 'POSITIVE'"
   ]
  },
  {
   "cell_type": "markdown",
   "metadata": {},
   "source": [
    "### Dispersion Relation"
   ]
  },
  {
   "cell_type": "code",
   "execution_count": null,
   "metadata": {
    "collapsed": true
   },
   "outputs": [],
   "source": [
    "### dynamic spectrum parameters\n",
    "timeFactor = 1\n",
    "freqFactor = 1\n",
    "dm = 277.8\n",
    "\n",
    "start_time = 2.0 # seconds\n",
    "time_window = 2.0 # seconds\n",
    "\n",
    "applyGauss = True\n",
    "fGauss = 1. # bins\n",
    "tGauss = 1. # bins\n",
    "\n",
    "rfi = []\n",
    "#rfi = [[805,820], [850,1023]] # frequency channels to flag as rfi, pairs are the edges of bands\n",
    "\n",
    "normalize = False"
   ]
  },
  {
   "cell_type": "code",
   "execution_count": null,
   "metadata": {
    "collapsed": true
   },
   "outputs": [],
   "source": [
    "decwaterfall, decddwaterfall, tInt, freqs = frbutils.dynamicSpectrum(frbFil, start_time, time_window,\n",
    "                                                timeFactor=timeFactor, freqFactor=freqFactor,\n",
    "                                                dm=dm,\n",
    "                                                applyGauss=applyGauss, fGauss=fGauss, tGauss=tGauss,\n",
    "                                                rfi=rfi)"
   ]
  },
  {
   "cell_type": "code",
   "execution_count": null,
   "metadata": {
    "collapsed": true
   },
   "outputs": [],
   "source": [
    "ddTimeSeries = np.mean(decddwaterfall, axis=1)\n",
    "startIdx = np.argmax(ddTimeSeries)\n",
    "startTime = startIdx * tInt # seconds"
   ]
  },
  {
   "cell_type": "code",
   "execution_count": null,
   "metadata": {
    "collapsed": true
   },
   "outputs": [],
   "source": [
    "if normalize:\n",
    "    meanGain = np.median(decwaterfall, axis=1)\n",
    "    decwaterfall = decwaterfall / meanGain[:, None]\n",
    "\n",
    "    meanBP = np.mean(decwaterfall, axis=0)\n",
    "    decwaterfall = decwaterfall / meanBP[None, :]"
   ]
  },
  {
   "cell_type": "code",
   "execution_count": null,
   "metadata": {},
   "outputs": [],
   "source": [
    "cmap = 'magma'\n",
    "sns.set_style('white', rc={'axes.linewidth': 0.5})\n",
    "\n",
    "fig = plt.figure(figsize=(12,6)) # (width, height)\n",
    "\n",
    "imRaw = plt.imshow(np.flipud(cutoutDynamicSpectrum), extent=(0, tInt*cutoutDynamicSpectrum.shape[1],\\\n",
    "                        freqs[0], freqs[-1]), aspect='auto', cmap=plt.get_cmap(cmap), interpolation='nearest')\n",
    "\n",
    "for rfiPair in rfi:\n",
    "    plt.axhspan(freqs[rfiPair[0]/freqFactor], freqs[rfiPair[1]/freqFactor], alpha=0.4, color='y')\n",
    "plt.ylabel('MHz')\n",
    "plt.xlabel('s')"
   ]
  },
  {
   "cell_type": "code",
   "execution_count": null,
   "metadata": {},
   "outputs": [],
   "source": [
    "# Find peaks in dedispersed dynamic spectrum\n",
    "# assuming a near nu^-2 relation, but pick a wide region to allow for variation\n",
    "peakSearchWidth = .09 # s, time width to find peaks\n",
    "peakStartTime = startTime - (peakSearchWidth / 2.)\n",
    "peakStartIdx = int(peakStartTime / tInt)\n",
    "peakStopTime = startTime + (peakSearchWidth / 2.)\n",
    "peakStopIdx = int(peakStopTime / tInt)\n",
    "print peakStartIdx, peakStopIdx\n",
    "\n",
    "cutoutDynamicSpectrum = np.copy(decddwaterfall[peakStartIdx:peakStopIdx].T)\n",
    "cutoutDynamicSpectrum -= np.mean(cutoutDynamicSpectrum)\n",
    "\n",
    "snrThresh = 3.\n",
    "stdDSpec = np.std(cutoutDynamicSpectrum)\n",
    "\n",
    "delays = dedispersion.delay(freqs * 1e6, dm) # seconds\n",
    "#print delays\n",
    "\n",
    "binaryMask = np.where(cutoutDynamicSpectrum > snrThresh * stdDSpec, 0.5, 0)\n",
    "\n",
    "validFidx = []\n",
    "validTidx = []\n",
    "validDelays = []\n",
    "validSNR = []\n",
    "\n",
    "for fIdx in np.arange(cutoutDynamicSpectrum.shape[0]): # loop over frequency channels\n",
    "    subband = cutoutDynamicSpectrum[fIdx]\n",
    "    # select only pixels above a threshold\n",
    "    subPeakIdx = np.argmax(subband)\n",
    "    if (subband[subPeakIdx] > snrThresh * stdDSpec):\n",
    "        binaryMask[fIdx, subPeakIdx] = 1.\n",
    "        validFidx.append(fIdx)\n",
    "        validTidx.append(subPeakIdx)\n",
    "        validSNR.append(subband[subPeakIdx] / stdDSpec)\n",
    "\n",
    "validFreqs = freqs[validFidx]\n",
    "validDelays = (np.array(validTidx) * tInt) - (peakSearchWidth / 2.) + delays[validFidx] + startTime\n",
    "validSNR = np.array(validSNR)\n",
    "#print validFreqs # MHz\n",
    "#print validDelays # seconds\n",
    "#print validSNR\n",
    "\n",
    "cmap = 'magma'\n",
    "sns.set_style('white', rc={'axes.linewidth': 0.5})\n",
    "\n",
    "fig = plt.figure(figsize=(12,6)) # (width, height)\n",
    "\n",
    "imRaw = plt.imshow(np.flipud(binaryMask), extent=(0, tInt*cutoutDynamicSpectrum.shape[1],\\\n",
    "                        freqs[0], freqs[-1]), aspect='auto', cmap=plt.get_cmap(cmap), interpolation='nearest')\n",
    "\n",
    "plt.ylabel('MHz')\n",
    "plt.xlabel('s')"
   ]
  },
  {
   "cell_type": "code",
   "execution_count": null,
   "metadata": {},
   "outputs": [],
   "source": [
    "cmap = 'magma'\n",
    "sns.set_style('white', rc={'axes.linewidth': 0.5})\n",
    "\n",
    "fig = plt.figure(figsize=(12,9)) # (width, height)\n",
    "\n",
    "ax1 = plt.subplot2grid((5, 3), (0, 0), colspan=3, rowspan=2)\n",
    "\n",
    "imRaw = plt.imshow(np.flipud(decwaterfall.T), extent=(0, tInt*decddwaterfall.shape[0],\\\n",
    "                        freqs[0], freqs[-1]), aspect='auto', cmap=plt.get_cmap(cmap), interpolation='nearest')\n",
    "\n",
    "for rfiPair in rfi:\n",
    "    plt.axhspan(freqs[rfiPair[0]/freqFactor], freqs[rfiPair[1]/freqFactor], alpha=0.4, color='y')\n",
    "plt.ylabel('MHz')\n",
    "\n",
    "plt.plot(((dm * (4.15 * (10.**6) * (freqs**(-2.) - freqs[-1]**(-2.))))/1000.) + startTime, freqs)\n",
    "\n",
    "plt.scatter(validDelays, validFreqs)\n",
    "\n",
    "ax1.get_xaxis().set_visible(False)\n",
    "\n",
    "ax2 = plt.subplot2grid((5, 3), (2, 0), colspan=3, rowspan=2)\n",
    "\n",
    "imRaw = plt.imshow(np.flipud(decddwaterfall.T), extent=(0, tInt*decddwaterfall.shape[0],\\\n",
    "                        freqs[0], freqs[-1]), aspect='auto', cmap=plt.get_cmap(cmap), interpolation='nearest')\n",
    "\n",
    "plt.axvline(x=peakStartTime, c='k', lw=2, ls='--')\n",
    "plt.axvline(x=peakStopTime, c='k', lw=2, ls='--')\n",
    "\n",
    "for rfiPair in rfi:\n",
    "    plt.axhspan(freqs[rfiPair[0]/freqFactor], freqs[rfiPair[1]/freqFactor], alpha=0.4, color='y')\n",
    "plt.ylabel('MHz')\n",
    "\n",
    "ax2.get_xaxis().set_visible(False)\n",
    "\n",
    "ax3 = plt.subplot2grid((5, 3), (4, 0), colspan=3)\n",
    "lineColor = 'k'\n",
    "plt.plot(1000.*tInt*np.arange(decddwaterfall.shape[0]), ddTimeSeries, lineColor, alpha=0.8)\n",
    "plt.xlim(0, 1000.*tInt*ddTimeSeries.shape[0])\n",
    "plt.title('DM=%0.f'%dm)\n",
    "plt.xlabel('ms')\n",
    "ax3.get_yaxis().set_visible(False)\n",
    "\n",
    "plt.tight_layout()"
   ]
  },
  {
   "cell_type": "markdown",
   "metadata": {},
   "source": [
    "#### Build Power Law Model"
   ]
  },
  {
   "cell_type": "code",
   "execution_count": null,
   "metadata": {},
   "outputs": [],
   "source": [
    "model = lmfit.models.ExpressionModel('amp * (nu1**(alpha) - nu2**(alpha)) - toff', independent_vars=['nu1', 'nu2'])\n",
    "\n",
    "print model\n",
    "print model.param_names\n",
    "print model.independent_vars"
   ]
  },
  {
   "cell_type": "code",
   "execution_count": null,
   "metadata": {
    "collapsed": true
   },
   "outputs": [],
   "source": [
    "nu1 = validFreqs.copy()\n",
    "nu2 = np.ones_like(validFreqs) * freqs[-1]"
   ]
  },
  {
   "cell_type": "code",
   "execution_count": null,
   "metadata": {},
   "outputs": [],
   "source": [
    "params = model.make_params(amp=dm * 4.148808e3, alpha=-2., toff=-1.*startTime)\n",
    "#params['alpha'].set(min=-2.5, max=-1.5)\n",
    "print params"
   ]
  },
  {
   "cell_type": "code",
   "execution_count": null,
   "metadata": {
    "collapsed": true
   },
   "outputs": [],
   "source": [
    "#print model.eval(params, nu1=nu1, nu2=nu2)\n",
    "#print validDelays"
   ]
  },
  {
   "cell_type": "code",
   "execution_count": null,
   "metadata": {},
   "outputs": [],
   "source": [
    "out  = model.fit(validDelays, params, nu1=nu1, nu2=nu2, weights=validSNR)\n",
    "print out.fit_report()"
   ]
  },
  {
   "cell_type": "code",
   "execution_count": null,
   "metadata": {},
   "outputs": [],
   "source": [
    "alphaBest = out.best_values['alpha']\n",
    "ampBest = out.best_values['amp']\n",
    "toffBest = out.best_values['toff']\n",
    "nu1Full = freqs\n",
    "nu2Full = freqs[-1]\n",
    "\n",
    "cmap = 'magma'\n",
    "sns.set_style('white', rc={'axes.linewidth': 0.5})\n",
    "\n",
    "fig = plt.figure(figsize=(12,6)) # (width, height)\n",
    "\n",
    "imRaw = plt.imshow(np.flipud(decwaterfall.T), extent=(0, tInt*decddwaterfall.shape[0],\\\n",
    "                        freqs[0], freqs[-1]), aspect='auto', cmap=plt.get_cmap(cmap), interpolation='nearest')\n",
    "\n",
    "for rfiPair in rfi:\n",
    "    plt.axhspan(freqs[rfiPair[0]/freqFactor], freqs[rfiPair[1]/freqFactor], alpha=0.4, color='y')\n",
    "plt.ylabel('MHz')\n",
    "\n",
    "plt.plot(((dm * (4.15 * (10.**6) * (freqs**(-2.) - freqs[-1]**(-2.))))/1000.) + startTime, freqs)\n",
    "plt.plot(ampBest * (nu1Full**(alphaBest) - nu2Full**(alphaBest)) - toffBest, freqs)\n",
    "\n",
    "\n",
    "plt.scatter(validDelays, validFreqs)\n",
    "\n",
    "plt.tight_layout()"
   ]
  },
  {
   "cell_type": "code",
   "execution_count": null,
   "metadata": {
    "collapsed": true
   },
   "outputs": [],
   "source": [
    "# Fits well to a nu^-2 dispersion relation\n",
    "criteria['dispersionRelation'] = 'POSITIVE'"
   ]
  },
  {
   "cell_type": "markdown",
   "metadata": {},
   "source": [
    "### Telescope Response"
   ]
  },
  {
   "cell_type": "code",
   "execution_count": null,
   "metadata": {},
   "outputs": [],
   "source": [
    "offFrbFil = '/local/griffin/data/FRB/FRB090625/FRB090625_s0r10b8_b06.fil' # beam 6, ~3 minutes earlier\n",
    "\n",
    "onFil = filterbankio.Filterbank(frbFil)\n",
    "ontInt = onFil.header['tsamp'] # get tInt\n",
    "onFreqsHz = onFil.freqs * 1e6 # generate array of freqs in Hz\n",
    "onFreqs = onFreqsHz / 1e6 # MHz\n",
    "onWaterfall = np.reshape(onFil.data, (onFil.data.shape[0], onFil.data.shape[2]))\n",
    "\n",
    "offFil = filterbankio.Filterbank(offFrbFil)\n",
    "offtInt = offFil.header['tsamp'] # get tInt\n",
    "offFreqsHz = offFil.freqs * 1e6 # generate array of freqs in Hz\n",
    "offWaterfall = np.reshape(offFil.data, (offFil.data.shape[0], offFil.data.shape[2]))"
   ]
  },
  {
   "cell_type": "code",
   "execution_count": null,
   "metadata": {},
   "outputs": [],
   "source": [
    "# Bandpass\n",
    "\n",
    "onMeanBP = onWaterfall.mean(axis=0)\n",
    "onMinBP = onWaterfall.min(axis=0)\n",
    "onMaxBP = onWaterfall.max(axis=0)\n",
    "onMedianBP = np.median(onWaterfall, axis=0)\n",
    "\n",
    "offMeanBP = offWaterfall.mean(axis=0)\n",
    "offMinBP = offWaterfall.min(axis=0)\n",
    "offMaxBP = offWaterfall.max(axis=0)\n",
    "offMedianBP = np.median(offWaterfall, axis=0)\n",
    "\n",
    "cmap = 'magma'\n",
    "sns.set_style('white', rc={'axes.linewidth': 0.5})\n",
    "\n",
    "fig = plt.figure(figsize=(12,6)) # (width, height)\n",
    "\n",
    "plt.plot(onFreqs, onMeanBP, 'g-')\n",
    "plt.plot(onFreqs, onMedianBP, 'g--')\n",
    "#plt.plot(onFreqs, onMinBP, 'g.')\n",
    "#plt.plot(onFreqs, onMaxBP, 'g.-')\n",
    "plt.fill_between(onFreqs, onMinBP, onMaxBP, color='g', alpha=0.2)\n",
    "\n",
    "plt.plot(onFreqs, offMeanBP, 'b-')\n",
    "plt.plot(onFreqs, offMedianBP, 'b--')\n",
    "#plt.plot(onFreqs, offMinBP, 'b.')\n",
    "#plt.plot(onFreqs, offMaxBP, 'b.-')\n",
    "\n",
    "plt.xlim(onFreqs[0], onFreqs[-1])\n",
    "plt.xlabel('Mhz')\n",
    "\n",
    "plt.tight_layout()"
   ]
  },
  {
   "cell_type": "code",
   "execution_count": null,
   "metadata": {
    "collapsed": true
   },
   "outputs": [],
   "source": [
    "criteria['bandpass'] = 'UNKNOWN' # data has been bandpass normalized"
   ]
  },
  {
   "cell_type": "code",
   "execution_count": null,
   "metadata": {},
   "outputs": [],
   "source": [
    "# Gain\n",
    "\n",
    "onMeanGain = onWaterfall.mean(axis=1)\n",
    "onMinGain = onWaterfall.min(axis=1)\n",
    "onMaxGain = onWaterfall.max(axis=1)\n",
    "onMedianGain = np.median(onWaterfall, axis=1)\n",
    "\n",
    "offMeanGain = offWaterfall.mean(axis=1)\n",
    "offMinGain = offWaterfall.min(axis=1)\n",
    "offMaxGain = offWaterfall.max(axis=1)\n",
    "offMedianGain = np.median(offWaterfall, axis=1)\n",
    "\n",
    "tRange = np.arange(onMeanGain.shape[0]) * ontInt\n",
    "\n",
    "cmap = 'magma'\n",
    "sns.set_style('white', rc={'axes.linewidth': 0.5})\n",
    "\n",
    "fig = plt.figure(figsize=(12,6)) # (width, height)\n",
    "\n",
    "plt.plot(tRange, onMeanGain, 'g-')\n",
    "#plt.plot(onFreqs, onMedianGain, 'g--')\n",
    "#plt.plot(onFreqs, onMinGain, 'g.')\n",
    "#plt.plot(onFreqs, onMaxGain, 'g.-')\n",
    "#plt.fill_between(onFreqs, onMinGain, onMaxGain, color='g', alpha=0.2)\n",
    "\n",
    "plt.plot(tRange, offMeanGain, 'b-')\n",
    "#plt.plot(onFreqs, offMedianGain, 'b--')\n",
    "#plt.plot(onFreqs, offMinGain, 'b.')\n",
    "#plt.plot(onFreqs, offMaxGain, 'b.-')\n",
    "\n",
    "plt.xlim(0, onMeanGain.shape[0] * ontInt)\n",
    "plt.xlabel('s')\n",
    "\n",
    "plt.tight_layout()"
   ]
  },
  {
   "cell_type": "code",
   "execution_count": null,
   "metadata": {
    "collapsed": true
   },
   "outputs": [],
   "source": [
    "criteria['gain'] = 'UNKNOWN' # data has been gain normalized"
   ]
  },
  {
   "cell_type": "markdown",
   "metadata": {},
   "source": [
    "### Telescope State"
   ]
  },
  {
   "cell_type": "code",
   "execution_count": null,
   "metadata": {},
   "outputs": [],
   "source": [
    "# Telescope pointing\n",
    "\n",
    "eventUTCStr = '2009-06-25 21:53:51.379'\n",
    "eventUTC = astropy.time.Time(eventUTCStr)\n",
    "print eventUTC\n",
    "\n",
    "eventGall = 226.444\n",
    "eventGalb = -60.0303\n",
    "\n",
    "galCoords = astropy.coordinates.SkyCoord(eventGall, eventGalb, frame=astropy.coordinates.Galactic,\\\n",
    "                                         unit='deg', equinox='J2000')\n",
    "print galCoords\n",
    "\n",
    "# Parkes location\n",
    "# https://www.parkes.atnf.csiro.au/observing/documentation/user_guide/pks_ug_2.html\n",
    "siteLat = -32.99778\n",
    "siteLong = 148.26292\n",
    "siteLoc = astropy.coordinates.EarthLocation(lat=siteLat * astropy.units.deg, lon=siteLong * astropy.units.deg,\\\n",
    "                                  height=414.80 * astropy.units.m)\n",
    "print siteLoc\n",
    "\n",
    "print galCoords.transform_to(astropy.coordinates.AltAz(obstime=eventUTC, location=siteLoc))\n",
    "\n",
    "print galCoords.transform_to('icrs')"
   ]
  },
  {
   "cell_type": "code",
   "execution_count": null,
   "metadata": {
    "collapsed": true
   },
   "outputs": [],
   "source": [
    "criteria['lowAltitude'] = 'UNKNOWN' # high-altitude pointing"
   ]
  },
  {
   "cell_type": "code",
   "execution_count": null,
   "metadata": {
    "collapsed": true
   },
   "outputs": [],
   "source": [
    "criteria['sysNoise'] = 'UNKNOWN' # system noise nominal?\n",
    "criteria['correctFeed'] = 'UNKNOWN' # was the feed in the corrct position?\n",
    "criteria['obsLog'] = 'UNKNOWN' # was the observation log checked to be nominal?\n",
    "criteria['electronics'] = 'UNKNOWN' # were the correct electornics on? were other systems off?"
   ]
  },
  {
   "cell_type": "markdown",
   "metadata": {},
   "source": [
    "### Follow-Up Observations"
   ]
  },
  {
   "cell_type": "code",
   "execution_count": null,
   "metadata": {
    "collapsed": true
   },
   "outputs": [],
   "source": [
    "# Unknown if follow-up observations or a pulsar search were done\n",
    "criteria['repeats'] = 'UNKNOWN'\n",
    "criteria['lowSNRsearch'] = 'UNKNOWN'"
   ]
  },
  {
   "cell_type": "markdown",
   "metadata": {},
   "source": [
    "### Multi-Beam"
   ]
  },
  {
   "cell_type": "code",
   "execution_count": null,
   "metadata": {
    "collapsed": true
   },
   "outputs": [],
   "source": [
    "### dynamic spectrum parameters\n",
    "timeFactor = 1\n",
    "freqFactor = 1\n",
    "dm = 899.5\n",
    "\n",
    "start_time = 7.3 # seconds\n",
    "time_window = 0.15 # seconds\n",
    "\n",
    "applyGauss = True\n",
    "fGauss = 4. # bins\n",
    "tGauss = 4. # bins\n",
    "\n",
    "rfi = [[805,820], [850,1023]] # frequency channels to flag as rfi, pairs are the edges of bands"
   ]
  },
  {
   "cell_type": "code",
   "execution_count": null,
   "metadata": {
    "collapsed": true
   },
   "outputs": [],
   "source": [
    "def multiBeamPlot():\n",
    "    decwaterfallBeam, decddwaterfallBeam, tInt, freqs = frbutils.dynamicSpectrum(frbFilBeam,\n",
    "                                          start_time, time_window,\n",
    "                                          timeFactor=timeFactor, freqFactor=freqFactor,\n",
    "                                          dm=dm,\n",
    "                                          applyGauss=applyGauss, fGauss=fGauss, tGauss=tGauss,\n",
    "                                          rfi=rfi)\n",
    "\n",
    "    ddTimeSeriesBeam = np.mean(decddwaterfallBeam, axis=1)\n",
    "\n",
    "    cmap = 'magma'\n",
    "    sns.set_style('white', rc={'axes.linewidth': 0.5})\n",
    "\n",
    "    fig = plt.figure(figsize=(12,6)) # (width, height)\n",
    "\n",
    "    ax1 = plt.subplot2grid((3, 3), (0, 0), colspan=3, rowspan=2)\n",
    "\n",
    "    imRaw = plt.imshow(np.flipud(decddwaterfallBeam.T), extent=(0, tInt*decddwaterfallBeam.shape[0],\\\n",
    "                        freqs[0], freqs[-1]), aspect='auto', cmap=plt.get_cmap(cmap), interpolation='nearest')\n",
    "    # crop out RFI flagged high freqs\n",
    "    #imRaw = plt.imshow(np.flipud(decddwaterfallBeam[:,:850].T), extent=(0, tInt*decddwaterfallBeam.shape[0],\\\n",
    "    #                    freqs[0], freqs[850]), aspect='auto', cmap=plt.get_cmap(cmap), interpolation='nearest')\n",
    "\n",
    "    for rfiPair in rfi:\n",
    "        plt.axhspan(freqs[rfiPair[0]/freqFactor], freqs[rfiPair[1]/freqFactor], alpha=0.4, color='y')\n",
    "    plt.ylabel('MHz')\n",
    "\n",
    "    ax1.get_xaxis().set_visible(False)\n",
    "\n",
    "    ax2 = plt.subplot2grid((3, 3), (2, 0), colspan=3)\n",
    "    lineColor = 'k'\n",
    "    plt.plot(1000.*tInt*np.arange(decddwaterfallBeam.shape[0]), ddTimeSeriesBeam, lineColor, alpha=0.8)\n",
    "    plt.plot(1000.*tInt*np.arange(decddwaterfall.shape[0]), ddTimeSeries, 'r', alpha=0.4) # pulse time series\n",
    "    plt.xlim(0, 1000.*tInt*ddTimeSeriesBeam.shape[0])\n",
    "    plt.title('DM=%0.f'%dm)\n",
    "    plt.xlabel('ms')\n",
    "    ax2.get_yaxis().set_visible(False)\n",
    "\n",
    "    plt.tight_layout()"
   ]
  },
  {
   "cell_type": "code",
   "execution_count": null,
   "metadata": {
    "collapsed": true
   },
   "outputs": [],
   "source": [
    "frbFilBeam = '/local/griffin/data/FRB/FRB090625/FRB090625_s193r10b8_b01.fil' # beam 01 (aslxlap07)\n",
    "multiBeamPlot()"
   ]
  },
  {
   "cell_type": "code",
   "execution_count": null,
   "metadata": {
    "collapsed": true
   },
   "outputs": [],
   "source": [
    "frbFilBeam = '/local/griffin/data/FRB/FRB090625/FRB090625_s193r10b8_b02.fil' # beam 02 (aslxlap07)\n",
    "multiBeamPlot()"
   ]
  },
  {
   "cell_type": "code",
   "execution_count": null,
   "metadata": {
    "collapsed": true
   },
   "outputs": [],
   "source": [
    "frbFilBeam = '/local/griffin/data/FRB/FRB090625/FRB090625_s193r10b8_b03.fil' # beam 03 (aslxlap07)\n",
    "multiBeamPlot()"
   ]
  },
  {
   "cell_type": "code",
   "execution_count": null,
   "metadata": {
    "collapsed": true
   },
   "outputs": [],
   "source": [
    "frbFilBeam = '/local/griffin/data/FRB/FRB090625/FRB090625_s193r10b8_b04.fil' # beam 04 (aslxlap07)\n",
    "multiBeamPlot()"
   ]
  },
  {
   "cell_type": "code",
   "execution_count": null,
   "metadata": {
    "collapsed": true
   },
   "outputs": [],
   "source": [
    "frbFilBeam = '/local/griffin/data/FRB/FRB090625/FRB090625_s193r10b8_b05.fil' # beam 05 (aslxlap07)\n",
    "multiBeamPlot()"
   ]
  },
  {
   "cell_type": "code",
   "execution_count": null,
   "metadata": {
    "collapsed": true
   },
   "outputs": [],
   "source": [
    "frbFilBeam = '/local/griffin/data/FRB/FRB090625/FRB090625_s193r10b8_b06.fil' # beam 06 (aslxlap07)\n",
    "multiBeamPlot()"
   ]
  },
  {
   "cell_type": "code",
   "execution_count": null,
   "metadata": {
    "collapsed": true
   },
   "outputs": [],
   "source": [
    "frbFilBeam = '/local/griffin/data/FRB/FRB090625/FRB090625_s193r10b8_b07.fil' # beam 07 (aslxlap07)\n",
    "multiBeamPlot()"
   ]
  },
  {
   "cell_type": "code",
   "execution_count": null,
   "metadata": {
    "collapsed": true
   },
   "outputs": [],
   "source": [
    "frbFilBeam = '/local/griffin/data/FRB/FRB090625/FRB090625_s193r10b8_b08.fil' # beam 08 (aslxlap07)\n",
    "multiBeamPlot()"
   ]
  },
  {
   "cell_type": "code",
   "execution_count": null,
   "metadata": {
    "collapsed": true
   },
   "outputs": [],
   "source": [
    "frbFilBeam = '/local/griffin/data/FRB/FRB090625/FRB090625_s193r10b8_b09.fil' # beam 09 (aslxlap07)\n",
    "multiBeamPlot()"
   ]
  },
  {
   "cell_type": "code",
   "execution_count": null,
   "metadata": {
    "collapsed": true
   },
   "outputs": [],
   "source": [
    "frbFilBeam = '/local/griffin/data/FRB/FRB090625/FRB090625_s193r10b8_b10.fil' # beam 10 (aslxlap07)\n",
    "multiBeamPlot()"
   ]
  },
  {
   "cell_type": "code",
   "execution_count": null,
   "metadata": {
    "collapsed": true
   },
   "outputs": [],
   "source": [
    "frbFilBeam = '/local/griffin/data/FRB/FRB090625/FRB090625_s193r10b8_b11.fil' # beam 11 (aslxlap07)\n",
    "multiBeamPlot()"
   ]
  },
  {
   "cell_type": "code",
   "execution_count": null,
   "metadata": {
    "collapsed": true
   },
   "outputs": [],
   "source": [
    "frbFilBeam = '/local/griffin/data/FRB/FRB090625/FRB090625_s193r10b8_b12.fil' # beam 12 (aslxlap07)\n",
    "multiBeamPlot()"
   ]
  },
  {
   "cell_type": "code",
   "execution_count": null,
   "metadata": {
    "collapsed": true
   },
   "outputs": [],
   "source": [
    "frbFilBeam = '/local/griffin/data/FRB/FRB090625/FRB090625_s193r10b8_b13.fil' # beam 13 (aslxlap07)\n",
    "multiBeamPlot()"
   ]
  },
  {
   "cell_type": "code",
   "execution_count": null,
   "metadata": {
    "collapsed": true
   },
   "outputs": [],
   "source": [
    "# No pulse present in any of the other beams, possibly present in beam 12\n",
    "criteria['multiBeam'] = 'POSITIVE'"
   ]
  },
  {
   "cell_type": "markdown",
   "metadata": {},
   "source": [
    "### Tied-Array Beam"
   ]
  },
  {
   "cell_type": "code",
   "execution_count": null,
   "metadata": {
    "collapsed": true
   },
   "outputs": [],
   "source": [
    "criteria['TAB'] = 'NOTVALID'"
   ]
  },
  {
   "cell_type": "markdown",
   "metadata": {},
   "source": [
    "### Interferometric Observations"
   ]
  },
  {
   "cell_type": "code",
   "execution_count": null,
   "metadata": {
    "collapsed": true
   },
   "outputs": [],
   "source": [
    "criteria['interferometric'] = 'NOTVALID'"
   ]
  },
  {
   "cell_type": "markdown",
   "metadata": {},
   "source": [
    "### Multi-Site"
   ]
  },
  {
   "cell_type": "code",
   "execution_count": null,
   "metadata": {
    "collapsed": true
   },
   "outputs": [],
   "source": [
    "criteria['multiSite'] = 'NOTVALID'"
   ]
  },
  {
   "cell_type": "markdown",
   "metadata": {},
   "source": [
    "### Available Data"
   ]
  },
  {
   "cell_type": "code",
   "execution_count": null,
   "metadata": {},
   "outputs": [],
   "source": [
    "criteria['dataSingleBeam'] = 'NOTVALID'\n",
    "criteria['dataMultiBeam'] = 'NEUTRAL' # filterbanks have been normalized\n",
    "criteria['dataTAB'] = 'NOTVALID'\n",
    "criteria['dataInterferometric'] = 'NOTVALID'\n",
    "criteria['dataMultiSite'] = 'NOTVALID'\n",
    "criteria['dataVoltages'] = 'NOTVALID'"
   ]
  },
  {
   "cell_type": "markdown",
   "metadata": {},
   "source": [
    "### Report Output"
   ]
  },
  {
   "cell_type": "code",
   "execution_count": null,
   "metadata": {},
   "outputs": [],
   "source": [
    "for key in criteria.iterkeys():\n",
    "    print '%s: %s'%(key, criteria[key])\n",
    "\n",
    "outFn = 'criteria.%s.pkl'%frbStr\n",
    "ofh = open(outFn, 'wb')\n",
    "pkl.dump(criteria, ofh)\n",
    "ofh.close()"
   ]
  },
  {
   "cell_type": "code",
   "execution_count": null,
   "metadata": {
    "collapsed": true
   },
   "outputs": [],
   "source": []
  }
 ],
 "metadata": {
  "kernelspec": {
   "display_name": "Python 2",
   "language": "python",
   "name": "python2"
  },
  "language_info": {
   "codemirror_mode": {
    "name": "ipython",
    "version": 2
   },
   "file_extension": ".py",
   "mimetype": "text/x-python",
   "name": "python",
   "nbconvert_exporter": "python",
   "pygments_lexer": "ipython2",
   "version": "2.7.14"
  }
 },
 "nbformat": 4,
 "nbformat_minor": 2
}
