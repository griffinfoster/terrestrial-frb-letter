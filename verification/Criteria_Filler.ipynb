{
 "cells": [
  {
   "cell_type": "markdown",
   "metadata": {
    "deletable": true,
    "editable": true
   },
   "source": [
    "## Criteria Filler"
   ]
  },
  {
   "cell_type": "code",
   "execution_count": 1,
   "metadata": {
    "collapsed": true,
    "deletable": true,
    "editable": true
   },
   "outputs": [],
   "source": [
    "import cPickle as pkl"
   ]
  },
  {
   "cell_type": "code",
   "execution_count": 2,
   "metadata": {
    "collapsed": true,
    "deletable": true,
    "editable": true
   },
   "outputs": [],
   "source": [
    "frbList = [\n",
    "    \"FRB180311\",\n",
    "    \"FRB180309\",\n",
    "    \"FRB180301\",\n",
    "    \"FRB171209\",\n",
    "    \"FRB170922\",\n",
    "    \"FRB170827\",\n",
    "    \"FRB170107\",\n",
    "    \"FRB160608\",\n",
    "    \"FRB160410\",\n",
    "    \"FRB160317\",\n",
    "    \"FRB160102\",\n",
    "    \"FRB151230\",\n",
    "    \"FRB151206\",\n",
    "    \"FRB150807\",\n",
    "    \"FRB150610\",\n",
    "    \"FRB150418\",\n",
    "    \"FRB150215\",\n",
    "    \"FRB140514\",\n",
    "    \"FRB131104\",\n",
    "    \"FRB130729\",\n",
    "    \"FRB130628\",\n",
    "    \"FRB130626\",\n",
    "    \"FRB121102\",\n",
    "    \"FRB121002\",\n",
    "    \"FRB120127\",\n",
    "    \"FRB110703\",\n",
    "    \"FRB110626\",\n",
    "    \"FRB110523\",\n",
    "    \"FRB110220\",\n",
    "    \"FRB090625\",\n",
    "    \"FRB010724\",\n",
    "    \"FRB010621\",\n",
    "    \"FRB010125\",\n",
    "    \"ALFAGAIN\",\n",
    "    \"B1859_03\",\n",
    "    \"LOFARRADAR\",\n",
    "    \"LOWSNR\",\n",
    "    \"Perytons\",\n",
    "    \"XAOREPEATER\"\n",
    "]"
   ]
  },
  {
   "cell_type": "code",
   "execution_count": 3,
   "metadata": {
    "collapsed": false,
    "deletable": true,
    "editable": true
   },
   "outputs": [],
   "source": [
    "for frbStr in frbList:\n",
    "    criteria = {} # criteria status dictionary\n",
    "    \n",
    "    criteria['DMexcess'] = 'UNKNOWN'\n",
    "    criteria['SNR'] = 'UNKNOWN'\n",
    "    criteria['flux'] = 'UNKNOWN'\n",
    "    criteria['pulsewidth'] = 'UNKNOWN'\n",
    "    criteria['multicomp'] = 'UNKNOWN'\n",
    "    criteria['polarization'] = 'UNKNOWN'\n",
    "    criteria['broadband'] = 'UNKNOWN'\n",
    "    criteria['spectralIndex'] = 'UNKNOWN'\n",
    "    criteria['highResStruct'] = 'UNKNOWN'\n",
    "    criteria['scattering'] = 'UNKNOWN'\n",
    "    criteria['scintillation'] = 'UNKNOWN'\n",
    "    criteria['dmSpace'] = 'UNKNOWN'\n",
    "    criteria['dispersionRelation'] = 'UNKNOWN'\n",
    "    criteria['bandpass'] = 'UNKNOWN'\n",
    "    criteria['lowAltitude'] = 'UNKNOWN'\n",
    "    #criteria['sysNoise'] = 'UNKNOWN'\n",
    "    #criteria['correctFeed'] = 'UNKNOWN'\n",
    "    #criteria['obsLog'] = 'UNKNOWN'\n",
    "    #criteria['electronics'] = 'UNKNOWN'\n",
    "    criteria['telState'] = 'UNKNOWN'\n",
    "    criteria['repeats'] = 'UNKNOWN'\n",
    "    criteria['rfi'] = 'UNKNOWN'\n",
    "    criteria['gain'] = 'UNKNOWN'\n",
    "    criteria['lowSNRsearch'] = 'UNKNOWN'\n",
    "    criteria['multiBeam'] = 'UNKNOWN'\n",
    "    criteria['TAB'] = 'UNKNOWN'\n",
    "    criteria['interferometric'] = 'UNKNOWN'\n",
    "    criteria['multiSite'] = 'UNKNOWN'\n",
    "    criteria['dataSingleBeam'] = 'UNKNOWN'\n",
    "    criteria['dataMultiBeam'] = 'UNKNOWN'\n",
    "    criteria['dataTAB'] = 'UNKNOWN'\n",
    "    criteria['dataInterferometric'] = 'UNKNOWN'\n",
    "    criteria['dataMultiSite'] = 'UNKNOWN'\n",
    "    criteria['dataVoltages'] = 'UNKNOWN'\n",
    "\n",
    "    #for key in criteria.iterkeys():\n",
    "    #    print '%s: %s'%(key, criteria[key])\n",
    "\n",
    "    outFn = 'criteria.%s.pkl'%frbStr\n",
    "    ofh = open(outFn, 'wb')\n",
    "    pkl.dump(criteria, ofh)\n",
    "    ofh.close()"
   ]
  }
 ],
 "metadata": {
  "kernelspec": {
   "display_name": "Python 2",
   "language": "python",
   "name": "python2"
  },
  "language_info": {
   "codemirror_mode": {
    "name": "ipython",
    "version": 2
   },
   "file_extension": ".py",
   "mimetype": "text/x-python",
   "name": "python",
   "nbconvert_exporter": "python",
   "pygments_lexer": "ipython2",
   "version": "2.7.12"
  }
 },
 "nbformat": 4,
 "nbformat_minor": 2
}
