{
 "cells": [
  {
   "cell_type": "markdown",
   "metadata": {
    "deletable": true,
    "editable": true
   },
   "source": [
    "## Perytons\n",
    "\n",
    "FRB verification criteria.\n",
    "\n",
    "Criteria results:\n",
    "\n",
    "* POSTIVE: good evidence for astrophysical origin\n",
    "* NEUTRAL: neutral evidence\n",
    "* UNKNOWN: unknown from reported data\n",
    "* NEGATIVE: evidence for terrestrial origin (non-critical)\n",
    "* CRITICAL: good evidence for terrestiral origin (critical)\n",
    "* NOTVALID: not valid criterion for observation"
   ]
  },
  {
   "cell_type": "code",
   "execution_count": 1,
   "metadata": {
    "collapsed": true,
    "deletable": true,
    "editable": true
   },
   "outputs": [],
   "source": [
    "import cPickle as pkl"
   ]
  },
  {
   "cell_type": "code",
   "execution_count": 2,
   "metadata": {
    "collapsed": true,
    "deletable": true,
    "editable": true
   },
   "outputs": [],
   "source": [
    "criteria = {} # criteria status dictionary"
   ]
  },
  {
   "cell_type": "markdown",
   "metadata": {
    "deletable": true,
    "editable": true
   },
   "source": [
    "### Parameters\n",
    "\n",
    "[Radio Bursts with Extragalactic Spectral Characteristics Show Terrestrial Origins - Burke-Spolaor et al.](https://arxiv.org/abs/1009.5392)\n",
    "\n",
    "[Identifying the source of perytons at the Parkes radio telescope - Petroff et al.](https://arxiv.org/abs/1504.02165)"
   ]
  },
  {
   "cell_type": "code",
   "execution_count": 3,
   "metadata": {
    "collapsed": true,
    "deletable": true,
    "editable": true
   },
   "outputs": [],
   "source": [
    "frbStr = 'Perytons'"
   ]
  },
  {
   "cell_type": "code",
   "execution_count": 4,
   "metadata": {
    "collapsed": true,
    "deletable": true,
    "editable": true
   },
   "outputs": [],
   "source": [
    "criteria['DMexcess'] = 'POSITIVE' # high DM frac, depending on pointing"
   ]
  },
  {
   "cell_type": "code",
   "execution_count": 5,
   "metadata": {
    "collapsed": true,
    "deletable": true,
    "editable": true
   },
   "outputs": [],
   "source": [
    "criteria['SNR'] = 'POSITIVE' # high SNR\n",
    "criteria['flux'] = 'POSITIVE' # reasonable flux\n",
    "criteria['pulsewidth'] = 'POSITIVE' # reasonable pulse width\n",
    "criteria['multicomp'] = 'POSITIVE' # single component\n",
    "criteria['polarization'] = 'NOTVALID' # Stokes I data only\n",
    "criteria['broadband'] = 'NEUTRAL' # covers the observing band, but with patchy structure\n",
    "criteria['spectralIndex'] = 'POSITIVE' # smooth spectral index\n",
    "criteria['highResStruct'] = 'POSITIVE' # no apparent high-resolution time or frequency structure\n",
    "criteria['scattering'] = 'POSITIVE' # apparent scattering tail following f^-4 relation\n",
    "criteria['scintillation'] = 'NEUTRAL' # maybe apparent scintillation\n",
    "criteria['dmSpace'] = 'POSITIVE' # clean DM-space within window\n",
    "criteria['dispersionRelation'] = 'CRITICAL' # some events do not follow nu^-2 relation\n",
    "criteria['bandpass'] = 'UNKNOWN' # data has been normalized\n",
    "criteria['lowAltitude'] = 'CRITICAL' # multiple pointings\n",
    "#criteria['sysNoise'] = 'UNKNOWN' # data has been normalized\n",
    "#criteria['correctFeed'] = 'POSITIVE' # checked\n",
    "#criteria['obsLog'] = 'POSITIVE' # checked\n",
    "#criteria['electronics'] = 'POSITIVE' # checked\n",
    "criteria['telState'] = 'UNKNOWN'\n",
    "criteria['repeats'] = 'CRITICAL' # repeats in multiple pointing directions\n",
    "criteria['rfi'] = 'UNKNOWN' # standard RFI environment\n",
    "criteria['gain'] = 'POSITIVE' # checked\n",
    "criteria['lowSNRsearch'] = 'UNKNOWN' # not clear if done\n",
    "criteria['multiBeam'] = 'CRITICAL' # detected in multiple beams at the same S/N -> local\n",
    "criteria['TAB'] = 'NOTVALID'\n",
    "criteria['interferometric'] = 'NOTVALID'\n",
    "criteria['multiSite'] = 'NOTVALID'"
   ]
  },
  {
   "cell_type": "markdown",
   "metadata": {
    "collapsed": true,
    "deletable": true,
    "editable": true
   },
   "source": [
    "### Available Data"
   ]
  },
  {
   "cell_type": "code",
   "execution_count": 6,
   "metadata": {
    "collapsed": true,
    "deletable": true,
    "editable": true
   },
   "outputs": [],
   "source": [
    "criteria['dataSingleBeam'] = 'NOTVALID'\n",
    "criteria['dataMultiBeam'] = 'NEUTRAL' # some of the multi-beams recorded data, data was normalized\n",
    "criteria['dataTAB'] = 'NOTVALID'\n",
    "criteria['dataInterferometric'] = 'NOTVALID'\n",
    "criteria['dataMultiSite'] = 'NOTVALID'\n",
    "criteria['dataVoltages'] = 'NOTVALID'"
   ]
  },
  {
   "cell_type": "code",
   "execution_count": 7,
   "metadata": {
    "collapsed": false,
    "deletable": true,
    "editable": true
   },
   "outputs": [
    {
     "name": "stdout",
     "output_type": "stream",
     "text": [
      "dataInterferometric: NOTVALID\n",
      "multiSite: NOTVALID\n",
      "multicomp: POSITIVE\n",
      "lowAltitude: CRITICAL\n",
      "scattering: POSITIVE\n",
      "spectralIndex: POSITIVE\n",
      "flux: POSITIVE\n",
      "broadband: NEUTRAL\n",
      "multiBeam: CRITICAL\n",
      "polarization: NOTVALID\n",
      "pulsewidth: POSITIVE\n",
      "DMexcess: POSITIVE\n",
      "TAB: NOTVALID\n",
      "dispersionRelation: CRITICAL\n",
      "telState: UNKNOWN\n",
      "interferometric: NOTVALID\n",
      "gain: POSITIVE\n",
      "dataVoltages: NOTVALID\n",
      "dataMultiBeam: NEUTRAL\n",
      "dataTAB: NOTVALID\n",
      "dmSpace: POSITIVE\n",
      "lowSNRsearch: UNKNOWN\n",
      "dataMultiSite: NOTVALID\n",
      "highResStruct: POSITIVE\n",
      "SNR: POSITIVE\n",
      "rfi: UNKNOWN\n",
      "repeats: CRITICAL\n",
      "scintillation: NEUTRAL\n",
      "bandpass: UNKNOWN\n",
      "dataSingleBeam: NOTVALID\n"
     ]
    }
   ],
   "source": [
    "for key in criteria.iterkeys():\n",
    "    print '%s: %s'%(key, criteria[key])\n",
    "\n",
    "outFn = 'criteria.%s.pkl'%frbStr\n",
    "ofh = open(outFn, 'wb')\n",
    "pkl.dump(criteria, ofh)\n",
    "ofh.close()"
   ]
  }
 ],
 "metadata": {
  "kernelspec": {
   "display_name": "Python 2",
   "language": "python",
   "name": "python2"
  },
  "language_info": {
   "codemirror_mode": {
    "name": "ipython",
    "version": 2
   },
   "file_extension": ".py",
   "mimetype": "text/x-python",
   "name": "python",
   "nbconvert_exporter": "python",
   "pygments_lexer": "ipython2",
   "version": "2.7.12"
  }
 },
 "nbformat": 4,
 "nbformat_minor": 2
}
