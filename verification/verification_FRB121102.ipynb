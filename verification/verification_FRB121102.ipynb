{
 "cells": [
  {
   "cell_type": "markdown",
   "metadata": {
    "deletable": true,
    "editable": true
   },
   "source": [
    "## FRB121102\n",
    "\n",
    "FRB verification criteria.\n",
    "\n",
    "Criteria results:\n",
    "\n",
    "* POSTIVE: good evidence for astrophysical origin\n",
    "* NEUTRAL: neutral evidence\n",
    "* UNKNOWN: unknown from reported data\n",
    "* NEGATIVE: evidence for terrestrial origin (non-critical)\n",
    "* CRITICAL: good evidence for terrestiral origin (critical)\n",
    "* NOTVALID: not valid criterion for observation"
   ]
  },
  {
   "cell_type": "code",
   "execution_count": 1,
   "metadata": {
    "collapsed": true,
    "deletable": true,
    "editable": true
   },
   "outputs": [],
   "source": [
    "import cPickle as pkl"
   ]
  },
  {
   "cell_type": "code",
   "execution_count": 2,
   "metadata": {
    "collapsed": true,
    "deletable": true,
    "editable": true
   },
   "outputs": [],
   "source": [
    "criteria = {} # criteria status dictionary"
   ]
  },
  {
   "cell_type": "markdown",
   "metadata": {
    "deletable": true,
    "editable": true
   },
   "source": [
    "### Parameters"
   ]
  },
  {
   "cell_type": "code",
   "execution_count": 3,
   "metadata": {
    "collapsed": true,
    "deletable": true,
    "editable": true
   },
   "outputs": [],
   "source": [
    "frbStr = 'FRB121102'"
   ]
  },
  {
   "cell_type": "markdown",
   "metadata": {
    "deletable": true,
    "editable": true
   },
   "source": [
    "#### DM Excess\n",
    "\n",
    "Using https://www.nrl.navy.mil/rsd/RORF/ne2001/\n",
    "\n",
    "(RA, Dec) = (05:32:09, +33:05:13)\n",
    "Galactic pointing: (l, b) = (174.95, -0.225138)"
   ]
  },
  {
   "cell_type": "code",
   "execution_count": 4,
   "metadata": {
    "collapsed": false,
    "deletable": true,
    "editable": true
   },
   "outputs": [
    {
     "name": "stdout",
     "output_type": "stream",
     "text": [
      "DM Excess fraction: 2.95616176627\n"
     ]
    }
   ],
   "source": [
    "dm = 557.\n",
    "DM_galaxy = 188.42\n",
    "DM_excess = dm / DM_galaxy\n",
    "print 'DM Excess fraction:', DM_excess"
   ]
  },
  {
   "cell_type": "code",
   "execution_count": 5,
   "metadata": {
    "collapsed": true
   },
   "outputs": [],
   "source": [
    "criteria['DMexcess'] = 'POSITIVE' # known extragalactic source at z~0.2"
   ]
  },
  {
   "cell_type": "code",
   "execution_count": 6,
   "metadata": {
    "collapsed": false,
    "deletable": true,
    "editable": true
   },
   "outputs": [],
   "source": [
    "criteria['SNR'] = 'POSITIVE' # high SNR\n",
    "criteria['flux'] = 'POSITIVE' # reasonable flux\n",
    "criteria['pulsewidth'] = 'POSITIVE' # reasonable pulse width\n",
    "criteria['multicomp'] = 'NEUTRAL' # variable component structure\n",
    "criteria['polarization'] = 'POSITIVE' # linearly polarized with high RM -> astrophysical\n",
    "criteria['broadband'] = 'NEUTRAL' # appears both band limited and broad band\n",
    "criteria['spectralIndex'] = 'NEUTRAL' # complex spectral index response\n",
    "criteria['highResStruct'] = 'NEUTRAL' # astrophysical high-resolution time and frequency structure\n",
    "criteria['scattering'] = 'NEUTRAL' # no apparent scattering\n",
    "criteria['scintillation'] = 'NEUTRAL' # possible scintillation\n",
    "criteria['dmSpace'] = 'POSITIVE' # clean DM-space within window\n",
    "criteria['dispersionRelation'] = 'POSITIVE' # fits n^-2 relation\n",
    "criteria['bandpass'] = 'POSITIVE' # observed with multiple telescopes and bands\n",
    "criteria['lowAltitude'] = 'POSITIVE' # observed with multiple telescopes and bands\n",
    "#criteria['sysNoise'] = 'POSITIVE' # observed with multiple telescopes and bands\n",
    "#criteria['correctFeed'] = 'POSITIVE' # observed with multiple telescopes and bands\n",
    "#criteria['obsLog'] = 'POSITIVE' # observed with multiple telescopes and bands\n",
    "#criteria['electronics'] = 'POSITIVE' # observed with multiple telescopes and bands\n",
    "criteria['telState'] = 'POSITIVE' # observed with multiple telescopes and bands\n",
    "criteria['repeats'] = 'POSITIVE' # seen to repeat at a fixed (RA, Dec)\n",
    "criteria['rfi'] = 'POSITIVE' # observed with multiple telescopes and bands\n",
    "criteria['gain'] = 'POSITIVE' # observed with multiple telescopes and bands\n",
    "criteria['lowSNRsearch'] = 'POSITIVE' # multiple low S/N pulses found\n",
    "criteria['multiBeam'] = 'POSITIVE' # observed with multiple telescopes and bands\n",
    "criteria['TAB'] = 'NOTVALID' # unknown\n",
    "criteria['interferometric'] = 'POSITIVE' # observed with multiple telescopes and bands\n",
    "criteria['multiSite'] = 'POSITIVE' # observed with multiple telescopes and bands"
   ]
  },
  {
   "cell_type": "markdown",
   "metadata": {
    "deletable": true,
    "editable": true
   },
   "source": [
    "### Available Data"
   ]
  },
  {
   "cell_type": "code",
   "execution_count": 7,
   "metadata": {
    "collapsed": true,
    "deletable": true,
    "editable": true
   },
   "outputs": [],
   "source": [
    "criteria['dataSingleBeam'] = 'POSITIVE' # observed with multiple telescopes and bands\n",
    "criteria['dataMultiBeam'] = 'POSITIVE' # observed with multiple telescopes and bands\n",
    "criteria['dataTAB'] = 'NOTVALID' # observed with multiple telescopes and bands\n",
    "criteria['dataInterferometric'] = 'POSITIVE' # observed with multiple telescopes and bands\n",
    "criteria['dataMultiSite'] = 'POSITIVE' # observed with multiple telescopes and bands\n",
    "criteria['dataVoltages'] = 'POSITIVE' # observed with multiple telescopes and bands"
   ]
  },
  {
   "cell_type": "code",
   "execution_count": 8,
   "metadata": {
    "collapsed": false,
    "deletable": true,
    "editable": true
   },
   "outputs": [
    {
     "name": "stdout",
     "output_type": "stream",
     "text": [
      "dataInterferometric: POSITIVE\n",
      "multiSite: POSITIVE\n",
      "multicomp: NEUTRAL\n",
      "lowAltitude: POSITIVE\n",
      "scattering: NEUTRAL\n",
      "spectralIndex: NEUTRAL\n",
      "flux: POSITIVE\n",
      "broadband: NEUTRAL\n",
      "multiBeam: POSITIVE\n",
      "polarization: POSITIVE\n",
      "pulsewidth: POSITIVE\n",
      "DMexcess: POSITIVE\n",
      "TAB: NOTVALID\n",
      "dispersionRelation: POSITIVE\n",
      "telState: POSITIVE\n",
      "interferometric: POSITIVE\n",
      "gain: POSITIVE\n",
      "dataVoltages: POSITIVE\n",
      "dataMultiBeam: POSITIVE\n",
      "dataTAB: NOTVALID\n",
      "dmSpace: POSITIVE\n",
      "lowSNRsearch: POSITIVE\n",
      "dataMultiSite: POSITIVE\n",
      "highResStruct: NEUTRAL\n",
      "SNR: POSITIVE\n",
      "rfi: POSITIVE\n",
      "repeats: POSITIVE\n",
      "scintillation: NEUTRAL\n",
      "bandpass: POSITIVE\n",
      "dataSingleBeam: POSITIVE\n"
     ]
    }
   ],
   "source": [
    "for key in criteria.iterkeys():\n",
    "    print '%s: %s'%(key, criteria[key])\n",
    "\n",
    "outFn = 'criteria.%s.pkl'%frbStr\n",
    "ofh = open(outFn, 'wb')\n",
    "pkl.dump(criteria, ofh)\n",
    "ofh.close()"
   ]
  }
 ],
 "metadata": {
  "kernelspec": {
   "display_name": "Python 2",
   "language": "python",
   "name": "python2"
  },
  "language_info": {
   "codemirror_mode": {
    "name": "ipython",
    "version": 2
   },
   "file_extension": ".py",
   "mimetype": "text/x-python",
   "name": "python",
   "nbconvert_exporter": "python",
   "pygments_lexer": "ipython2",
   "version": "2.7.12"
  }
 },
 "nbformat": 4,
 "nbformat_minor": 2
}
