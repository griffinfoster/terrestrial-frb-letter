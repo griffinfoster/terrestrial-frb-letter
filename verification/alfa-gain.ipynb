{
 "cells": [
  {
   "cell_type": "markdown",
   "metadata": {
    "deletable": true,
    "editable": true
   },
   "source": [
    "## ALFA Gain Variation\n",
    "\n",
    "FRB verification criteria.\n",
    "\n",
    "Criteria results:\n",
    "\n",
    "* POSTIVE: good evidence for astrophysical origin\n",
    "* NEUTRAL: neutral evidence\n",
    "* UNKNOWN: unknown from reported data\n",
    "* NEGATIVE: evidence for terrestrial origin (non-critical)\n",
    "* CRITICAL: good evidence for terrestiral origin (critical)\n",
    "* NOTVALID: not valid criterion for observation"
   ]
  },
  {
   "cell_type": "code",
   "execution_count": 1,
   "metadata": {
    "collapsed": true,
    "deletable": true,
    "editable": true
   },
   "outputs": [],
   "source": [
    "import cPickle as pkl"
   ]
  },
  {
   "cell_type": "code",
   "execution_count": 2,
   "metadata": {
    "collapsed": true,
    "deletable": true,
    "editable": true
   },
   "outputs": [],
   "source": [
    "criteria = {} # criteria status dictionary"
   ]
  },
  {
   "cell_type": "markdown",
   "metadata": {
    "deletable": true,
    "editable": true
   },
   "source": [
    "### Parameters"
   ]
  },
  {
   "cell_type": "code",
   "execution_count": 3,
   "metadata": {
    "collapsed": true,
    "deletable": true,
    "editable": true
   },
   "outputs": [],
   "source": [
    "frbStr = 'ALFAGAIN'"
   ]
  },
  {
   "cell_type": "markdown",
   "metadata": {
    "deletable": true,
    "editable": true
   },
   "source": [
    "#### DM Excess\n",
    "\n",
    "Using https://www.nrl.navy.mil/rsd/RORF/ne2001/\n",
    "\n",
    "(RA, Dec) = (14:42:26.18, +15:11:28.34)\n",
    "Galactic pointing: (l, b) = (13.7598, 61.5934)"
   ]
  },
  {
   "cell_type": "code",
   "execution_count": 4,
   "metadata": {
    "collapsed": false,
    "deletable": true,
    "editable": true
   },
   "outputs": [
    {
     "name": "stdout",
     "output_type": "stream",
     "text": [
      "DM Excess fraction: 12.5859106529\n"
     ]
    }
   ],
   "source": [
    "dm = 293.\n",
    "DM_galaxy = 23.28\n",
    "DM_excess = dm / DM_galaxy\n",
    "print 'DM Excess fraction:', DM_excess"
   ]
  },
  {
   "cell_type": "code",
   "execution_count": 5,
   "metadata": {
    "collapsed": true
   },
   "outputs": [],
   "source": [
    "criteria['DMexcess'] = 'POSITIVE'"
   ]
  },
  {
   "cell_type": "code",
   "execution_count": 6,
   "metadata": {
    "collapsed": true,
    "deletable": true,
    "editable": true
   },
   "outputs": [],
   "source": [
    "criteria['SNR'] = 'POSITIVE' # SNR above threshold\n",
    "criteria['flux'] = 'POSITIVE' # reasonable flux\n",
    "criteria['pulsewidth'] = 'POSITIVE' # reasonable pulse width\n",
    "criteria['multicomp'] = 'POSITIVE' # single component\n",
    "criteria['polarization'] = 'NOTVALID' # Stokes I data only\n",
    "criteria['broadband'] = 'POSITIVE' # covers the observing band\n",
    "criteria['spectralIndex'] = 'POSITIVE' # flat across the band\n",
    "criteria['highResStruct'] = 'POSITIVE' # no apparent high-resolution time or frequency structure\n",
    "criteria['scattering'] = 'NEUTRAL' # no apparent scattering\n",
    "criteria['scintillation'] = 'NEUTRAL' # no apparent scintillation\n",
    "criteria['dmSpace'] = 'NEGATIVE' # clean DM-space within window, but dramatic variation at adjacent times\n",
    "criteria['dispersionRelation'] = 'NEUTRAL' # fractional band too small to measure\n",
    "criteria['bandpass'] = 'NEGATIVE' # bandpass deviates from expected\n",
    "criteria['lowAltitude'] = 'POSITIVE' # high altitude pointing\n",
    "#criteria['sysNoise'] = 'NEGATIVE' # system noise higher than expected\n",
    "#criteria['correctFeed'] = 'CRITICAL' # feed was not in the correct position\n",
    "#criteria['obsLog'] = 'POSITIVE' # obs log indicated a valid observation\n",
    "#criteria['electronics'] = 'NEGATIVE' # additional electronics were active during the time\n",
    "criteria['telState'] = 'CRITICAL' # system noise higher than expected, feed was not in the correct position, additional electronics were active during the time\n",
    "criteria['repeats'] = 'POSITIVE' # no seen again\n",
    "criteria['rfi'] = 'NEGATIVE' # narrow band RFI present\n",
    "criteria['gain'] = 'NEGATIVE' # gain variationms during this time\n",
    "criteria['lowSNRsearch'] = 'POSITIVE' # no low S/N pulses at a similar DM were found\n",
    "criteria['multiBeam'] = 'POSITIVE' # seen in multiple beams with a drop-off in S/N\n",
    "criteria['TAB'] = 'NOTVALID'\n",
    "criteria['interferometric'] = 'NOTVALID'\n",
    "criteria['multiSite'] = 'NOTVALID'"
   ]
  },
  {
   "cell_type": "markdown",
   "metadata": {
    "deletable": true,
    "editable": true
   },
   "source": [
    "### Available Data"
   ]
  },
  {
   "cell_type": "code",
   "execution_count": 7,
   "metadata": {
    "collapsed": true,
    "deletable": true,
    "editable": true
   },
   "outputs": [],
   "source": [
    "criteria['dataSingleBeam'] = 'NOTVALID'\n",
    "criteria['dataMultiBeam'] = 'NEUTRAL' # some of the multi-beams recorded data, data was normalized\n",
    "criteria['dataTAB'] = 'NOTVALID'\n",
    "criteria['dataInterferometric'] = 'NOTVALID'\n",
    "criteria['dataMultiSite'] = 'NOTVALID'\n",
    "criteria['dataVoltages'] = 'NOTVALID'"
   ]
  },
  {
   "cell_type": "code",
   "execution_count": 8,
   "metadata": {
    "collapsed": false,
    "deletable": true,
    "editable": true
   },
   "outputs": [
    {
     "name": "stdout",
     "output_type": "stream",
     "text": [
      "dataInterferometric: NOTVALID\n",
      "multiSite: NOTVALID\n",
      "multicomp: POSITIVE\n",
      "lowAltitude: POSITIVE\n",
      "scattering: NEUTRAL\n",
      "spectralIndex: POSITIVE\n",
      "flux: POSITIVE\n",
      "broadband: POSITIVE\n",
      "multiBeam: POSITIVE\n",
      "polarization: NOTVALID\n",
      "pulsewidth: POSITIVE\n",
      "DMexcess: POSITIVE\n",
      "TAB: NOTVALID\n",
      "dispersionRelation: NEUTRAL\n",
      "telState: CRITICAL\n",
      "interferometric: NOTVALID\n",
      "gain: NEGATIVE\n",
      "dataVoltages: NOTVALID\n",
      "dataMultiBeam: NEUTRAL\n",
      "dataTAB: NOTVALID\n",
      "dmSpace: NEGATIVE\n",
      "lowSNRsearch: POSITIVE\n",
      "dataMultiSite: NOTVALID\n",
      "highResStruct: POSITIVE\n",
      "SNR: POSITIVE\n",
      "rfi: NEGATIVE\n",
      "repeats: POSITIVE\n",
      "scintillation: NEUTRAL\n",
      "bandpass: NEGATIVE\n",
      "dataSingleBeam: NOTVALID\n"
     ]
    }
   ],
   "source": [
    "for key in criteria.iterkeys():\n",
    "    print '%s: %s'%(key, criteria[key])\n",
    "\n",
    "outFn = 'criteria.%s.pkl'%frbStr\n",
    "ofh = open(outFn, 'wb')\n",
    "pkl.dump(criteria, ofh)\n",
    "ofh.close()"
   ]
  }
 ],
 "metadata": {
  "kernelspec": {
   "display_name": "Python 2",
   "language": "python",
   "name": "python2"
  },
  "language_info": {
   "codemirror_mode": {
    "name": "ipython",
    "version": 2
   },
   "file_extension": ".py",
   "mimetype": "text/x-python",
   "name": "python",
   "nbconvert_exporter": "python",
   "pygments_lexer": "ipython2",
   "version": "2.7.12"
  }
 },
 "nbformat": 4,
 "nbformat_minor": 2
}
